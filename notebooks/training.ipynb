{
 "cells": [
  {
   "cell_type": "code",
   "execution_count": 1,
   "metadata": {},
   "outputs": [],
   "source": [
    "import torch\n",
    "import torch.nn.functional as F\n",
    "import os\n",
    "import os.path\n",
    "import shutil\n",
    "import numpy as np\n",
    "import soundfile as sf\n",
    "import librosa as lr\n",
    "import librosa.display as lrd\n",
    "import matplotlib.pyplot as plt\n",
    "\n",
    "from pathlib import PurePath\n",
    "from torch import nn\n",
    "from torch.utils.data import DataLoader, random_split\n",
    "from asteroid.data import TimitDataset\n",
    "from asteroid.data.utils import CachedWavSet, RandomMixtureSet, FixedMixtureSet\n",
    "from asteroid_filterbanks.transforms import mag\n",
    "from tqdm import tqdm\n",
    "from einops import rearrange\n",
    "\n",
    "from torch import optim\n",
    "from pytorch_lightning import Trainer, seed_everything, loggers as pl_loggers\n",
    "from pytorch_lightning.callbacks import ModelCheckpoint\n",
    "from pytorch_lightning.callbacks.early_stopping import EarlyStopping\n",
    "from asteroid_filterbanks import make_enc_dec\n",
    "from asteroid_filterbanks.transforms import mag\n",
    "from asteroid.engine import System, UNetGAN\n",
    "from asteroid.losses import singlesrc_neg_sisdr, singlesrc_mse\n",
    "\n",
    "from asteroid import DCUNet, DCCRNet, DPRNNTasNet, ConvTasNet, RegressionFCNN, WaveUNet, Demucs\n",
    "\n",
    "%load_ext autoreload\n",
    "%autoreload 2"
   ]
  },
  {
   "cell_type": "markdown",
   "metadata": {},
   "source": [
    "## Constants and utils"
   ]
  },
  {
   "cell_type": "code",
   "execution_count": 16,
   "metadata": {},
   "outputs": [],
   "source": [
    "BATCH_SIZE       = 32     # could be more on cluster, test if larger one work\n",
    "SAMPLE_RATE      = 8000   # as agreed upon\n",
    "CROP_LEN         = 24000  # average track len in TIMIT\n",
    "SEED             = 42     # magic number :)    \n",
    "\n",
    "# directory with train noises (n116-n120)\n",
    "DRONE_NOISE_DIR = '../../../datasets/noises-train-drones'\n",
    "# fixed SNRs for validation set\n",
    "TRAIN_SNRS = [-25, -20, -15, -10, -5]\n",
    "\n",
    "def sisdr_loss_wrapper(est_target, target):\n",
    "    return singlesrc_neg_sisdr(est_target.squeeze(1), target).mean()\n",
    "\n",
    "def train_val_split(ds, val_fraction=0.1, random_seed=SEED):\n",
    "    assert val_fraction > 0 and val_fraction < 0.5\n",
    "    len_train = int(len(ds) * (1 - val_fraction))\n",
    "    len_val = len(ds) - len_train\n",
    "    return random_split(ds, [len_train, len_val], generator=torch.Generator().manual_seed(random_seed))\n",
    "\n",
    "def get_opt_and_sched(model, lr, lr_patience):\n",
    "    optimizer = optim.Adam(model.parameters(), lr=lr)\n",
    "    scheduler = optim.lr_scheduler.ReduceLROnPlateau(optimizer, patience=lr_patience)\n",
    "    return optimizer, scheduler"
   ]
  },
  {
   "cell_type": "markdown",
   "metadata": {},
   "source": [
    "## Prepare the data"
   ]
  },
  {
   "cell_type": "markdown",
   "metadata": {},
   "source": [
    "### Download and resample TIMIT dataset "
   ]
  },
  {
   "cell_type": "code",
   "execution_count": 8,
   "metadata": {},
   "outputs": [],
   "source": [
    "TIMIT_DIR = PurePath('../../../datasets/TIMIT')\n",
    "TIMIT_DIR_8kHZ = PurePath('../../../datasets/TIMIT_8kHZ')"
   ]
  },
  {
   "cell_type": "code",
   "execution_count": 7,
   "metadata": {},
   "outputs": [
    {
     "data": {
      "application/vnd.jupyter.widget-view+json": {
       "model_id": "facf486f719a4ff69e95af06b9c74abf",
       "version_major": 2,
       "version_minor": 0
      },
      "text/plain": [
       "  0%|          | 0.00/829M [00:00<?, ?B/s]"
      ]
     },
     "metadata": {},
     "output_type": "display_data"
    }
   ],
   "source": [
    "TimitDataset.download(TIMIT_DIR)"
   ]
  },
  {
   "cell_type": "code",
   "execution_count": 9,
   "metadata": {},
   "outputs": [
    {
     "name": "stderr",
     "output_type": "stream",
     "text": [
      "Resampling training data: 100%|██████████| 4620/4620 [05:16<00:00, 14.58it/s]\n",
      "Resampling test data: 100%|██████████| 1680/1680 [01:59<00:00, 14.09it/s]\n"
     ]
    }
   ],
   "source": [
    "os.makedirs(TIMIT_DIR_8kHZ, exist_ok=True)\n",
    "shutil.copyfile(TIMIT_DIR / 'train_data.csv', TIMIT_DIR_8kHZ / 'train_data.csv')\n",
    "shutil.copyfile(TIMIT_DIR / 'test_data.csv', TIMIT_DIR_8kHZ / 'test_data.csv')\n",
    "\n",
    "data_dir_in = TIMIT_DIR / 'data'\n",
    "data_dir_out = TIMIT_DIR_8kHZ / 'data'\n",
    "\n",
    "def resample(ds, dir_in, dir_out, message='Resampling'):\n",
    "    dl = DataLoader(ds, num_workers=10)\n",
    "    for wav, path in tqdm(dl, message):\n",
    "        path = PurePath(path[0])\n",
    "        out_path = dir_out / path.relative_to(dir_in)\n",
    "        os.makedirs(out_path.parent, exist_ok=True)\n",
    "        sf.write(file=out_path, data=wav[0].numpy(), samplerate=SAMPLE_RATE)\n",
    "\n",
    "timit_train = TimitDataset(TIMIT_DIR, subset='train', sample_rate=SAMPLE_RATE)\n",
    "resample(timit_train, data_dir_in, data_dir_out, 'Resampling training data')\n",
    "\n",
    "timit_test = TimitDataset(TIMIT_DIR, subset='test', sample_rate=SAMPLE_RATE)\n",
    "resample(timit_test, data_dir_in, data_dir_out, 'Resampling test data')"
   ]
  },
  {
   "cell_type": "code",
   "execution_count": 17,
   "metadata": {},
   "outputs": [
    {
     "data": {
      "text/plain": [
       "24149"
      ]
     },
     "execution_count": 17,
     "metadata": {},
     "output_type": "execute_result"
    }
   ],
   "source": [
    "demucs = Demucs()\n",
    "CROP_LEN = demucs.wavenet.valid_length(CROP_LEN)\n",
    "CROP_LEN"
   ]
  },
  {
   "cell_type": "markdown",
   "metadata": {},
   "source": [
    "### Load and split the data"
   ]
  },
  {
   "cell_type": "code",
   "execution_count": 18,
   "metadata": {},
   "outputs": [
    {
     "name": "stderr",
     "output_type": "stream",
     "text": [
      "Global seed set to 42\n",
      "Precaching audio: 100%|██████████| 5/5 [00:29<00:00,  5.97s/it]\n"
     ]
    }
   ],
   "source": [
    "# This is for training with on-the-fly random noise mixture with random SNR from the range.\n",
    "# Is expected to produce a more robust result: checking this now on EECS server\n",
    "\n",
    "# Reproducibility - fix all random seeds\n",
    "seed_everything(SEED)\n",
    "\n",
    "# Load noises, resample and save into the memory\n",
    "noises = CachedWavSet(DRONE_NOISE_DIR, sample_rate=SAMPLE_RATE, precache=True)\n",
    "\n",
    "# Load clean data and split it into train and val\n",
    "timit = TimitDataset(TIMIT_DIR_8kHZ, subset='train', sample_rate=SAMPLE_RATE, with_path=False)\n",
    "timit_train, timit_val = train_val_split(timit, val_fraction=0.1, random_seed=SEED)\n",
    "\n",
    "# Training data mixes crops randomly on the fly with random SNR in range (effectively infinite training data)\n",
    "# `repeat_factor=20` means that the dataset contains 20 copies of itself - it is the easiest way to make the epoch longer\n",
    "timit_train = RandomMixtureSet(timit_train, noises, random_seed=SEED, snr_range=(-25, -5),\n",
    "                               crop_length=CROP_LEN, repeat_factor=10)\n",
    "\n",
    "# Validation data is fixed (for stability): mix every clean clip with all the noises in the folder\n",
    "# Argument `mixtures_per_clean` regulates with how many different noise files each clean file will be mixed\n",
    "timit_val = FixedMixtureSet(timit_val, noises, snrs=TRAIN_SNRS, random_seed=SEED,\n",
    "                            mixtures_per_clean=5, crop_length=CROP_LEN)"
   ]
  },
  {
   "cell_type": "code",
   "execution_count": 19,
   "metadata": {},
   "outputs": [],
   "source": [
    "# Reproducibility - fix all random seeds\n",
    "# seed_everything(SEED)\n",
    "\n",
    "# # Load noises, resample and save into the memory\n",
    "# noises = CachedWavSet(DRONE_NOISE_DIR, sample_rate=SAMPLE_RATE, precache=True)\n",
    "\n",
    "# timit = TimitDataset(TIMIT_DIR_8kHZ, subset='train', sample_rate=SAMPLE_RATE, with_path=False)\n",
    "# timit_mix = FixedMixtureSet(timit, noises, snrs=TRAIN_SNRS, random_seed=SEED,\n",
    "#                             mixtures_per_clean=5, crop_length=CROP_LEN)\n",
    "\n",
    "# timit_train, timit_val = train_val_split(timit_mix, val_fraction=0.1, random_seed=SEED)"
   ]
  },
  {
   "cell_type": "code",
   "execution_count": 21,
   "metadata": {},
   "outputs": [],
   "source": [
    "NUM_WORKERS = 5\n",
    "train_loader = DataLoader(timit_train, shuffle=True, batch_size=BATCH_SIZE,\n",
    "                          num_workers=NUM_WORKERS, drop_last=True)\n",
    "val_loader = DataLoader(timit_val, batch_size=BATCH_SIZE,\n",
    "                        num_workers=NUM_WORKERS, drop_last=True)"
   ]
  },
  {
   "cell_type": "code",
   "execution_count": 25,
   "metadata": {},
   "outputs": [],
   "source": [
    "optimizer, scheduler = get_opt_and_sched(demucs, LR, REDUCE_LR_PATIENCE)\n",
    "system = System(demucs, optimizer, F.l1_loss, train_loader, val_loader, scheduler)"
   ]
  },
  {
   "cell_type": "code",
   "execution_count": 26,
   "metadata": {},
   "outputs": [
    {
     "name": "stderr",
     "output_type": "stream",
     "text": [
      "GPU available: False, used: False\n",
      "TPU available: None, using: 0 TPU cores\n",
      "Running in fast_dev_run mode: will run a full train, val and test loop using 1 batch(es).\n"
     ]
    }
   ],
   "source": [
    "LOG_DIR = '../../../workspace/logs'\n",
    "logger = pl_loggers.TensorBoardLogger(LOG_DIR, name='TIMIT-drones-Demucs-dummy', version=1)\n",
    "\n",
    "trainer = Trainer(max_epochs=10, logger=logger, deterministic=True, fast_dev_run=True)"
   ]
  },
  {
   "cell_type": "code",
   "execution_count": 27,
   "metadata": {},
   "outputs": [
    {
     "name": "stderr",
     "output_type": "stream",
     "text": [
      "\n",
      "  | Name  | Type   | Params\n",
      "---------------------------------\n",
      "0 | model | Demucs | 18.9 M\n",
      "---------------------------------\n",
      "18.9 M    Trainable params\n",
      "0         Non-trainable params\n",
      "18.9 M    Total params\n",
      "75.472    Total estimated model params size (MB)\n"
     ]
    },
    {
     "data": {
      "application/vnd.jupyter.widget-view+json": {
       "model_id": "d35c165fd9ad47b1a518b637376ebc55",
       "version_major": 2,
       "version_minor": 0
      },
      "text/plain": [
       "Training: 0it [00:00, ?it/s]"
      ]
     },
     "metadata": {},
     "output_type": "display_data"
    },
    {
     "name": "stderr",
     "output_type": "stream",
     "text": [
      "/data/home/acw592/projects/asteroid/asteroid/engine/system.py:101: UserWarning: Using a target size (torch.Size([32, 24149])) that is different to the input size (torch.Size([32, 1, 24149])). This will likely lead to incorrect results due to broadcasting. Please ensure they have the same size.\n",
      "  loss = self.loss_func(est_targets, targets)\n"
     ]
    },
    {
     "data": {
      "application/vnd.jupyter.widget-view+json": {
       "model_id": "",
       "version_major": 2,
       "version_minor": 0
      },
      "text/plain": [
       "Validating: 0it [00:00, ?it/s]"
      ]
     },
     "metadata": {},
     "output_type": "display_data"
    },
    {
     "data": {
      "text/plain": [
       "1"
      ]
     },
     "execution_count": 27,
     "metadata": {},
     "output_type": "execute_result"
    }
   ],
   "source": [
    "trainer.fit(system)"
   ]
  },
  {
   "cell_type": "code",
   "execution_count": 8,
   "metadata": {},
   "outputs": [
    {
     "name": "stderr",
     "output_type": "stream",
     "text": [
      "Computing scaler: 100%|██████████| 3248/3248 [14:39<00:00,  3.69it/s] \n"
     ]
    }
   ],
   "source": [
    "baseline_model = RegressionFCNN()\n",
    "baseline_model.compute_scaler(train_loader)"
   ]
  },
  {
   "cell_type": "code",
   "execution_count": 9,
   "metadata": {},
   "outputs": [
    {
     "data": {
      "text/plain": [
       "<matplotlib.colorbar.Colorbar at 0x7f30aa3c4340>"
      ]
     },
     "execution_count": 9,
     "metadata": {},
     "output_type": "execute_result"
    },
    {
     "data": {
      "image/png": "[encoded data removed]",
      "text/plain": [
       "<Figure size 432x288 with 2 Axes>"
      ]
     },
     "metadata": {
      "needs_background": "light"
     },
     "output_type": "display_data"
    }
   ],
   "source": [
    "mean = baseline_model.scaler_mean\n",
    "long = torch.stack([mean]*100).T\n",
    "img = lrd.specshow(long.numpy())\n",
    "plt.colorbar(img)"
   ]
  },
  {
   "cell_type": "code",
   "execution_count": 10,
   "metadata": {},
   "outputs": [
    {
     "data": {
      "text/plain": [
       "<matplotlib.colorbar.Colorbar at 0x7f30aa366ee0>"
      ]
     },
     "execution_count": 10,
     "metadata": {},
     "output_type": "execute_result"
    },
    {
     "data": {
      "image/png": "[encoded data removed]",
      "text/plain": [
       "<Figure size 432x288 with 2 Axes>"
      ]
     },
     "metadata": {
      "needs_background": "light"
     },
     "output_type": "display_data"
    }
   ],
   "source": [
    "std = baseline_model.scaler_std\n",
    "long = torch.stack([std]*100).T\n",
    "img = lrd.specshow(long.numpy())\n",
    "plt.colorbar(img)"
   ]
  },
  {
   "cell_type": "markdown",
   "metadata": {},
   "source": [
    "## Baseline model training"
   ]
  },
  {
   "cell_type": "code",
   "execution_count": 24,
   "metadata": {},
   "outputs": [],
   "source": [
    "# some random parameters, does it look sensible?\n",
    "LR = 1e-4\n",
    "REDUCE_LR_PATIENCE = 3\n",
    "EARLY_STOP_PATIENCE = 10\n",
    "MAX_EPOCHS = 300"
   ]
  },
  {
   "cell_type": "code",
   "execution_count": 12,
   "metadata": {},
   "outputs": [],
   "source": [
    "def _unsqueeze_to_3d(x):\n",
    "    \"\"\"Normalize shape of `x` to [batch, n_chan, time].\"\"\"\n",
    "    if x.ndim == 1:\n",
    "        return x.reshape(1, 1, -1)\n",
    "    elif x.ndim == 2:\n",
    "        return x.unsqueeze(1)\n",
    "    else:\n",
    "        return x\n",
    "\n",
    "class MagnitudeIRMSystem(System):\n",
    "    def common_step(self, batch, batch_nb, train=True):\n",
    "        mix, clean = batch\n",
    "        mix = _unsqueeze_to_3d(mix)\n",
    "        clean = _unsqueeze_to_3d(clean)\n",
    "        \n",
    "        mix_tf = self.model.forward_encoder(mix)\n",
    "        clean_tf = self.model.forward_encoder(clean)\n",
    "        \n",
    "        true_irm = torch.minimum(mag(clean_tf) / mag(mix_tf), torch.tensor(1).type_as(mix_tf))\n",
    "        est_irm = self.model.forward_masker(mix_tf)\n",
    "        loss = self.loss_func(est_irm, true_irm)\n",
    "        return loss"
   ]
  },
  {
   "cell_type": "code",
   "execution_count": 13,
   "metadata": {},
   "outputs": [],
   "source": [
    "optimizer, scheduler = get_opt_and_sched(baseline_model, LR, REDUCE_LR_PATIENCE)\n",
    "early_stopping = EarlyStopping(monitor='val_loss', patience=EARLY_STOP_PATIENCE)\n",
    "checkpoint = ModelCheckpoint(\n",
    "    filename='{epoch:02d}-{val_loss:.2f}',\n",
    "    monitor=\"val_loss\",\n",
    "    mode=\"min\",\n",
    "    save_top_k=5,\n",
    "    verbose=True\n",
    ")\n",
    "\n",
    "system = MagnitudeIRMSystem(baseline_model, optimizer, F.mse_loss, train_loader, val_loader, scheduler)"
   ]
  },
  {
   "cell_type": "code",
   "execution_count": 14,
   "metadata": {},
   "outputs": [
    {
     "name": "stderr",
     "output_type": "stream",
     "text": [
      "GPU available: True, used: True\n",
      "TPU available: None, using: 0 TPU cores\n",
      "LOCAL_RANK: 0 - CUDA_VISIBLE_DEVICES: [0,1,2,3]\n"
     ]
    }
   ],
   "source": [
    "logger = pl_loggers.TensorBoardLogger('logs', name='TIMIT-drones-baseline-proper', version=1)\n",
    "\n",
    "# choose the proper accelerator for JADE, probably `ddp` (also, `auto_select_gpus=True` might be useful)\n",
    "trainer = Trainer(max_epochs=MAX_EPOCHS, gpus=-1, accelerator='dp',\n",
    "                  logger=logger, callbacks=[early_stopping, checkpoint], deterministic=True)"
   ]
  },
  {
   "cell_type": "code",
   "execution_count": 15,
   "metadata": {},
   "outputs": [
    {
     "name": "stderr",
     "output_type": "stream",
     "text": [
      "\n",
      "  | Name  | Type           | Params\n",
      "-----------------------------------------\n",
      "0 | model | RegressionFCNN | 10.5 M\n",
      "-----------------------------------------\n",
      "10.5 M    Trainable params\n",
      "0         Non-trainable params\n",
      "10.5 M    Total params\n"
     ]
    },
    {
     "data": {
      "application/vnd.jupyter.widget-view+json": {
       "model_id": "",
       "version_major": 2,
       "version_minor": 0
      },
      "text/plain": [
       "HBox(children=(HTML(value='Validation sanity check'), FloatProgress(value=1.0, bar_style='info', layout=Layout…"
      ]
     },
     "metadata": {},
     "output_type": "display_data"
    },
    {
     "data": {
      "application/vnd.jupyter.widget-view+json": {
       "model_id": "a0e88cb355e242208240947de72334aa",
       "version_major": 2,
       "version_minor": 0
      },
      "text/plain": [
       "HBox(children=(HTML(value='Training'), FloatProgress(value=1.0, bar_style='info', layout=Layout(flex='2'), max…"
      ]
     },
     "metadata": {},
     "output_type": "display_data"
    },
    {
     "name": "stderr",
     "output_type": "stream",
     "text": [
      "/homes/dm005/conda_env/lib/python3.8/site-packages/torch/nn/parallel/_functions.py:64: UserWarning: Was asked to gather along dimension 0, but all input tensors were scalars; will instead unsqueeze and return a vector.\n",
      "  warnings.warn('Was asked to gather along dimension 0, but all '\n"
     ]
    },
    {
     "data": {
      "application/vnd.jupyter.widget-view+json": {
       "model_id": "",
       "version_major": 2,
       "version_minor": 0
      },
      "text/plain": [
       "HBox(children=(HTML(value='Validating'), FloatProgress(value=1.0, bar_style='info', layout=Layout(flex='2'), m…"
      ]
     },
     "metadata": {},
     "output_type": "display_data"
    },
    {
     "name": "stderr",
     "output_type": "stream",
     "text": [
      "Epoch 0, global step 3247: val_loss reached 0.03913 (best 0.03913), saving model to \"logs/TIMIT-drones-baseline-proper/version_1/checkpoints/epoch=00-val_loss=0.04.ckpt\" as top 5\n"
     ]
    },
    {
     "data": {
      "application/vnd.jupyter.widget-view+json": {
       "model_id": "",
       "version_major": 2,
       "version_minor": 0
      },
      "text/plain": [
       "HBox(children=(HTML(value='Validating'), FloatProgress(value=1.0, bar_style='info', layout=Layout(flex='2'), m…"
      ]
     },
     "metadata": {},
     "output_type": "display_data"
    },
    {
     "name": "stderr",
     "output_type": "stream",
     "text": [
      "Epoch 1, global step 6495: val_loss reached 0.03398 (best 0.03398), saving model to \"logs/TIMIT-drones-baseline-proper/version_1/checkpoints/epoch=01-val_loss=0.03.ckpt\" as top 5\n"
     ]
    },
    {
     "data": {
      "application/vnd.jupyter.widget-view+json": {
       "model_id": "",
       "version_major": 2,
       "version_minor": 0
      },
      "text/plain": [
       "HBox(children=(HTML(value='Validating'), FloatProgress(value=1.0, bar_style='info', layout=Layout(flex='2'), m…"
      ]
     },
     "metadata": {},
     "output_type": "display_data"
    },
    {
     "name": "stderr",
     "output_type": "stream",
     "text": [
      "Epoch 2, global step 9743: val_loss reached 0.03181 (best 0.03181), saving model to \"logs/TIMIT-drones-baseline-proper/version_1/checkpoints/epoch=02-val_loss=0.03.ckpt\" as top 5\n"
     ]
    },
    {
     "data": {
      "application/vnd.jupyter.widget-view+json": {
       "model_id": "",
       "version_major": 2,
       "version_minor": 0
      },
      "text/plain": [
       "HBox(children=(HTML(value='Validating'), FloatProgress(value=1.0, bar_style='info', layout=Layout(flex='2'), m…"
      ]
     },
     "metadata": {},
     "output_type": "display_data"
    },
    {
     "name": "stderr",
     "output_type": "stream",
     "text": [
      "Epoch 3, global step 12991: val_loss reached 0.03083 (best 0.03083), saving model to \"logs/TIMIT-drones-baseline-proper/version_1/checkpoints/epoch=03-val_loss=0.03.ckpt\" as top 5\n"
     ]
    },
    {
     "data": {
      "application/vnd.jupyter.widget-view+json": {
       "model_id": "",
       "version_major": 2,
       "version_minor": 0
      },
      "text/plain": [
       "HBox(children=(HTML(value='Validating'), FloatProgress(value=1.0, bar_style='info', layout=Layout(flex='2'), m…"
      ]
     },
     "metadata": {},
     "output_type": "display_data"
    },
    {
     "name": "stderr",
     "output_type": "stream",
     "text": [
      "Epoch 4, global step 16239: val_loss reached 0.03044 (best 0.03044), saving model to \"logs/TIMIT-drones-baseline-proper/version_1/checkpoints/epoch=04-val_loss=0.03.ckpt\" as top 5\n"
     ]
    },
    {
     "data": {
      "application/vnd.jupyter.widget-view+json": {
       "model_id": "",
       "version_major": 2,
       "version_minor": 0
      },
      "text/plain": [
       "HBox(children=(HTML(value='Validating'), FloatProgress(value=1.0, bar_style='info', layout=Layout(flex='2'), m…"
      ]
     },
     "metadata": {},
     "output_type": "display_data"
    },
    {
     "name": "stderr",
     "output_type": "stream",
     "text": [
      "Epoch 5, global step 19487: val_loss reached 0.02957 (best 0.02957), saving model to \"logs/TIMIT-drones-baseline-proper/version_1/checkpoints/epoch=05-val_loss=0.03.ckpt\" as top 5\n"
     ]
    },
    {
     "data": {
      "application/vnd.jupyter.widget-view+json": {
       "model_id": "",
       "version_major": 2,
       "version_minor": 0
      },
      "text/plain": [
       "HBox(children=(HTML(value='Validating'), FloatProgress(value=1.0, bar_style='info', layout=Layout(flex='2'), m…"
      ]
     },
     "metadata": {},
     "output_type": "display_data"
    },
    {
     "name": "stderr",
     "output_type": "stream",
     "text": [
      "Epoch 6, global step 22735: val_loss reached 0.02878 (best 0.02878), saving model to \"logs/TIMIT-drones-baseline-proper/version_1/checkpoints/epoch=06-val_loss=0.03.ckpt\" as top 5\n"
     ]
    },
    {
     "data": {
      "application/vnd.jupyter.widget-view+json": {
       "model_id": "",
       "version_major": 2,
       "version_minor": 0
      },
      "text/plain": [
       "HBox(children=(HTML(value='Validating'), FloatProgress(value=1.0, bar_style='info', layout=Layout(flex='2'), m…"
      ]
     },
     "metadata": {},
     "output_type": "display_data"
    },
    {
     "name": "stderr",
     "output_type": "stream",
     "text": [
      "Epoch 7, global step 25983: val_loss reached 0.02883 (best 0.02878), saving model to \"logs/TIMIT-drones-baseline-proper/version_1/checkpoints/epoch=07-val_loss=0.03.ckpt\" as top 5\n"
     ]
    },
    {
     "data": {
      "application/vnd.jupyter.widget-view+json": {
       "model_id": "",
       "version_major": 2,
       "version_minor": 0
      },
      "text/plain": [
       "HBox(children=(HTML(value='Validating'), FloatProgress(value=1.0, bar_style='info', layout=Layout(flex='2'), m…"
      ]
     },
     "metadata": {},
     "output_type": "display_data"
    },
    {
     "name": "stderr",
     "output_type": "stream",
     "text": [
      "Epoch 8, global step 29231: val_loss reached 0.02818 (best 0.02818), saving model to \"logs/TIMIT-drones-baseline-proper/version_1/checkpoints/epoch=08-val_loss=0.03.ckpt\" as top 5\n"
     ]
    },
    {
     "data": {
      "application/vnd.jupyter.widget-view+json": {
       "model_id": "",
       "version_major": 2,
       "version_minor": 0
      },
      "text/plain": [
       "HBox(children=(HTML(value='Validating'), FloatProgress(value=1.0, bar_style='info', layout=Layout(flex='2'), m…"
      ]
     },
     "metadata": {},
     "output_type": "display_data"
    },
    {
     "name": "stderr",
     "output_type": "stream",
     "text": [
      "Epoch 9, global step 32479: val_loss reached 0.02838 (best 0.02818), saving model to \"logs/TIMIT-drones-baseline-proper/version_1/checkpoints/epoch=09-val_loss=0.03.ckpt\" as top 5\n"
     ]
    },
    {
     "data": {
      "application/vnd.jupyter.widget-view+json": {
       "model_id": "",
       "version_major": 2,
       "version_minor": 0
      },
      "text/plain": [
       "HBox(children=(HTML(value='Validating'), FloatProgress(value=1.0, bar_style='info', layout=Layout(flex='2'), m…"
      ]
     },
     "metadata": {},
     "output_type": "display_data"
    },
    {
     "name": "stderr",
     "output_type": "stream",
     "text": [
      "Epoch 10, global step 35727: val_loss reached 0.02827 (best 0.02818), saving model to \"logs/TIMIT-drones-baseline-proper/version_1/checkpoints/epoch=10-val_loss=0.03.ckpt\" as top 5\n"
     ]
    },
    {
     "data": {
      "application/vnd.jupyter.widget-view+json": {
       "model_id": "",
       "version_major": 2,
       "version_minor": 0
      },
      "text/plain": [
       "HBox(children=(HTML(value='Validating'), FloatProgress(value=1.0, bar_style='info', layout=Layout(flex='2'), m…"
      ]
     },
     "metadata": {},
     "output_type": "display_data"
    },
    {
     "name": "stderr",
     "output_type": "stream",
     "text": [
      "Epoch 11, global step 38975: val_loss reached 0.02814 (best 0.02814), saving model to \"logs/TIMIT-drones-baseline-proper/version_1/checkpoints/epoch=11-val_loss=0.03.ckpt\" as top 5\n"
     ]
    },
    {
     "data": {
      "application/vnd.jupyter.widget-view+json": {
       "model_id": "",
       "version_major": 2,
       "version_minor": 0
      },
      "text/plain": [
       "HBox(children=(HTML(value='Validating'), FloatProgress(value=1.0, bar_style='info', layout=Layout(flex='2'), m…"
      ]
     },
     "metadata": {},
     "output_type": "display_data"
    },
    {
     "name": "stderr",
     "output_type": "stream",
     "text": [
      "Epoch 12, global step 42223: val_loss reached 0.02813 (best 0.02813), saving model to \"logs/TIMIT-drones-baseline-proper/version_1/checkpoints/epoch=12-val_loss=0.03.ckpt\" as top 5\n"
     ]
    },
    {
     "data": {
      "application/vnd.jupyter.widget-view+json": {
       "model_id": "",
       "version_major": 2,
       "version_minor": 0
      },
      "text/plain": [
       "HBox(children=(HTML(value='Validating'), FloatProgress(value=1.0, bar_style='info', layout=Layout(flex='2'), m…"
      ]
     },
     "metadata": {},
     "output_type": "display_data"
    },
    {
     "name": "stderr",
     "output_type": "stream",
     "text": [
      "Epoch 13, global step 45471: val_loss reached 0.02724 (best 0.02724), saving model to \"logs/TIMIT-drones-baseline-proper/version_1/checkpoints/epoch=13-val_loss=0.03.ckpt\" as top 5\n"
     ]
    },
    {
     "data": {
      "application/vnd.jupyter.widget-view+json": {
       "model_id": "",
       "version_major": 2,
       "version_minor": 0
      },
      "text/plain": [
       "HBox(children=(HTML(value='Validating'), FloatProgress(value=1.0, bar_style='info', layout=Layout(flex='2'), m…"
      ]
     },
     "metadata": {},
     "output_type": "display_data"
    },
    {
     "name": "stderr",
     "output_type": "stream",
     "text": [
      "Epoch 14, global step 48719: val_loss reached 0.02777 (best 0.02724), saving model to \"logs/TIMIT-drones-baseline-proper/version_1/checkpoints/epoch=14-val_loss=0.03.ckpt\" as top 5\n"
     ]
    },
    {
     "data": {
      "application/vnd.jupyter.widget-view+json": {
       "model_id": "",
       "version_major": 2,
       "version_minor": 0
      },
      "text/plain": [
       "HBox(children=(HTML(value='Validating'), FloatProgress(value=1.0, bar_style='info', layout=Layout(flex='2'), m…"
      ]
     },
     "metadata": {},
     "output_type": "display_data"
    },
    {
     "name": "stderr",
     "output_type": "stream",
     "text": [
      "Epoch 15, global step 51967: val_loss reached 0.02776 (best 0.02724), saving model to \"logs/TIMIT-drones-baseline-proper/version_1/checkpoints/epoch=15-val_loss=0.03.ckpt\" as top 5\n"
     ]
    },
    {
     "data": {
      "application/vnd.jupyter.widget-view+json": {
       "model_id": "",
       "version_major": 2,
       "version_minor": 0
      },
      "text/plain": [
       "HBox(children=(HTML(value='Validating'), FloatProgress(value=1.0, bar_style='info', layout=Layout(flex='2'), m…"
      ]
     },
     "metadata": {},
     "output_type": "display_data"
    },
    {
     "name": "stderr",
     "output_type": "stream",
     "text": [
      "Epoch 16, global step 55215: val_loss reached 0.02768 (best 0.02724), saving model to \"logs/TIMIT-drones-baseline-proper/version_1/checkpoints/epoch=16-val_loss=0.03.ckpt\" as top 5\n"
     ]
    },
    {
     "data": {
      "application/vnd.jupyter.widget-view+json": {
       "model_id": "",
       "version_major": 2,
       "version_minor": 0
      },
      "text/plain": [
       "HBox(children=(HTML(value='Validating'), FloatProgress(value=1.0, bar_style='info', layout=Layout(flex='2'), m…"
      ]
     },
     "metadata": {},
     "output_type": "display_data"
    },
    {
     "name": "stderr",
     "output_type": "stream",
     "text": [
      "Epoch 17, global step 58463: val_loss reached 0.02769 (best 0.02724), saving model to \"logs/TIMIT-drones-baseline-proper/version_1/checkpoints/epoch=17-val_loss=0.03.ckpt\" as top 5\n"
     ]
    },
    {
     "data": {
      "application/vnd.jupyter.widget-view+json": {
       "model_id": "",
       "version_major": 2,
       "version_minor": 0
      },
      "text/plain": [
       "HBox(children=(HTML(value='Validating'), FloatProgress(value=1.0, bar_style='info', layout=Layout(flex='2'), m…"
      ]
     },
     "metadata": {},
     "output_type": "display_data"
    },
    {
     "name": "stderr",
     "output_type": "stream",
     "text": [
      "Epoch 18, global step 61711: val_loss reached 0.02688 (best 0.02688), saving model to \"logs/TIMIT-drones-baseline-proper/version_1/checkpoints/epoch=18-val_loss=0.03.ckpt\" as top 5\n"
     ]
    },
    {
     "data": {
      "application/vnd.jupyter.widget-view+json": {
       "model_id": "",
       "version_major": 2,
       "version_minor": 0
      },
      "text/plain": [
       "HBox(children=(HTML(value='Validating'), FloatProgress(value=1.0, bar_style='info', layout=Layout(flex='2'), m…"
      ]
     },
     "metadata": {},
     "output_type": "display_data"
    },
    {
     "name": "stderr",
     "output_type": "stream",
     "text": [
      "Epoch 19, global step 64959: val_loss reached 0.02708 (best 0.02688), saving model to \"logs/TIMIT-drones-baseline-proper/version_1/checkpoints/epoch=19-val_loss=0.03.ckpt\" as top 5\n"
     ]
    },
    {
     "data": {
      "application/vnd.jupyter.widget-view+json": {
       "model_id": "",
       "version_major": 2,
       "version_minor": 0
      },
      "text/plain": [
       "HBox(children=(HTML(value='Validating'), FloatProgress(value=1.0, bar_style='info', layout=Layout(flex='2'), m…"
      ]
     },
     "metadata": {},
     "output_type": "display_data"
    },
    {
     "name": "stderr",
     "output_type": "stream",
     "text": [
      "Epoch 20, global step 68207: val_loss reached 0.02672 (best 0.02672), saving model to \"logs/TIMIT-drones-baseline-proper/version_1/checkpoints/epoch=20-val_loss=0.03.ckpt\" as top 5\n"
     ]
    },
    {
     "data": {
      "application/vnd.jupyter.widget-view+json": {
       "model_id": "",
       "version_major": 2,
       "version_minor": 0
      },
      "text/plain": [
       "HBox(children=(HTML(value='Validating'), FloatProgress(value=1.0, bar_style='info', layout=Layout(flex='2'), m…"
      ]
     },
     "metadata": {},
     "output_type": "display_data"
    },
    {
     "name": "stderr",
     "output_type": "stream",
     "text": [
      "Epoch 21, global step 71455: val_loss reached 0.02702 (best 0.02672), saving model to \"logs/TIMIT-drones-baseline-proper/version_1/checkpoints/epoch=21-val_loss=0.03.ckpt\" as top 5\n"
     ]
    },
    {
     "data": {
      "application/vnd.jupyter.widget-view+json": {
       "model_id": "",
       "version_major": 2,
       "version_minor": 0
      },
      "text/plain": [
       "HBox(children=(HTML(value='Validating'), FloatProgress(value=1.0, bar_style='info', layout=Layout(flex='2'), m…"
      ]
     },
     "metadata": {},
     "output_type": "display_data"
    },
    {
     "name": "stderr",
     "output_type": "stream",
     "text": [
      "Epoch 22, global step 74703: val_loss reached 0.02661 (best 0.02661), saving model to \"logs/TIMIT-drones-baseline-proper/version_1/checkpoints/epoch=22-val_loss=0.03.ckpt\" as top 5\n"
     ]
    },
    {
     "data": {
      "application/vnd.jupyter.widget-view+json": {
       "model_id": "",
       "version_major": 2,
       "version_minor": 0
      },
      "text/plain": [
       "HBox(children=(HTML(value='Validating'), FloatProgress(value=1.0, bar_style='info', layout=Layout(flex='2'), m…"
      ]
     },
     "metadata": {},
     "output_type": "display_data"
    },
    {
     "name": "stderr",
     "output_type": "stream",
     "text": [
      "Epoch 23, global step 77951: val_loss reached 0.02681 (best 0.02661), saving model to \"logs/TIMIT-drones-baseline-proper/version_1/checkpoints/epoch=23-val_loss=0.03.ckpt\" as top 5\n"
     ]
    },
    {
     "data": {
      "application/vnd.jupyter.widget-view+json": {
       "model_id": "",
       "version_major": 2,
       "version_minor": 0
      },
      "text/plain": [
       "HBox(children=(HTML(value='Validating'), FloatProgress(value=1.0, bar_style='info', layout=Layout(flex='2'), m…"
      ]
     },
     "metadata": {},
     "output_type": "display_data"
    },
    {
     "name": "stderr",
     "output_type": "stream",
     "text": [
      "Epoch 24, global step 81199: val_loss reached 0.02647 (best 0.02647), saving model to \"logs/TIMIT-drones-baseline-proper/version_1/checkpoints/epoch=24-val_loss=0.03.ckpt\" as top 5\n"
     ]
    },
    {
     "data": {
      "application/vnd.jupyter.widget-view+json": {
       "model_id": "",
       "version_major": 2,
       "version_minor": 0
      },
      "text/plain": [
       "HBox(children=(HTML(value='Validating'), FloatProgress(value=1.0, bar_style='info', layout=Layout(flex='2'), m…"
      ]
     },
     "metadata": {},
     "output_type": "display_data"
    },
    {
     "name": "stderr",
     "output_type": "stream",
     "text": [
      "Epoch 25, global step 84447: val_loss reached 0.02658 (best 0.02647), saving model to \"logs/TIMIT-drones-baseline-proper/version_1/checkpoints/epoch=25-val_loss=0.03.ckpt\" as top 5\n"
     ]
    },
    {
     "data": {
      "application/vnd.jupyter.widget-view+json": {
       "model_id": "",
       "version_major": 2,
       "version_minor": 0
      },
      "text/plain": [
       "HBox(children=(HTML(value='Validating'), FloatProgress(value=1.0, bar_style='info', layout=Layout(flex='2'), m…"
      ]
     },
     "metadata": {},
     "output_type": "display_data"
    },
    {
     "name": "stderr",
     "output_type": "stream",
     "text": [
      "Epoch 26, global step 87695: val_loss reached 0.02659 (best 0.02647), saving model to \"logs/TIMIT-drones-baseline-proper/version_1/checkpoints/epoch=26-val_loss=0.03.ckpt\" as top 5\n"
     ]
    },
    {
     "data": {
      "application/vnd.jupyter.widget-view+json": {
       "model_id": "",
       "version_major": 2,
       "version_minor": 0
      },
      "text/plain": [
       "HBox(children=(HTML(value='Validating'), FloatProgress(value=1.0, bar_style='info', layout=Layout(flex='2'), m…"
      ]
     },
     "metadata": {},
     "output_type": "display_data"
    },
    {
     "name": "stderr",
     "output_type": "stream",
     "text": [
      "Epoch 27, global step 90943: val_loss reached 0.02665 (best 0.02647), saving model to \"logs/TIMIT-drones-baseline-proper/version_1/checkpoints/epoch=27-val_loss=0.03.ckpt\" as top 5\n"
     ]
    },
    {
     "data": {
      "application/vnd.jupyter.widget-view+json": {
       "model_id": "",
       "version_major": 2,
       "version_minor": 0
      },
      "text/plain": [
       "HBox(children=(HTML(value='Validating'), FloatProgress(value=1.0, bar_style='info', layout=Layout(flex='2'), m…"
      ]
     },
     "metadata": {},
     "output_type": "display_data"
    },
    {
     "name": "stderr",
     "output_type": "stream",
     "text": [
      "Epoch 28, step 94191: val_loss was not in top 5\n"
     ]
    },
    {
     "data": {
      "application/vnd.jupyter.widget-view+json": {
       "model_id": "",
       "version_major": 2,
       "version_minor": 0
      },
      "text/plain": [
       "HBox(children=(HTML(value='Validating'), FloatProgress(value=1.0, bar_style='info', layout=Layout(flex='2'), m…"
      ]
     },
     "metadata": {},
     "output_type": "display_data"
    },
    {
     "name": "stderr",
     "output_type": "stream",
     "text": [
      "Epoch 29, global step 97439: val_loss reached 0.02664 (best 0.02647), saving model to \"logs/TIMIT-drones-baseline-proper/version_1/checkpoints/epoch=29-val_loss=0.03.ckpt\" as top 5\n"
     ]
    },
    {
     "data": {
      "application/vnd.jupyter.widget-view+json": {
       "model_id": "",
       "version_major": 2,
       "version_minor": 0
      },
      "text/plain": [
       "HBox(children=(HTML(value='Validating'), FloatProgress(value=1.0, bar_style='info', layout=Layout(flex='2'), m…"
      ]
     },
     "metadata": {},
     "output_type": "display_data"
    },
    {
     "name": "stderr",
     "output_type": "stream",
     "text": [
      "Epoch 30, step 100687: val_loss was not in top 5\n"
     ]
    },
    {
     "data": {
      "application/vnd.jupyter.widget-view+json": {
       "model_id": "",
       "version_major": 2,
       "version_minor": 0
      },
      "text/plain": [
       "HBox(children=(HTML(value='Validating'), FloatProgress(value=1.0, bar_style='info', layout=Layout(flex='2'), m…"
      ]
     },
     "metadata": {},
     "output_type": "display_data"
    },
    {
     "name": "stderr",
     "output_type": "stream",
     "text": [
      "Epoch 31, step 103935: val_loss was not in top 5\n"
     ]
    },
    {
     "data": {
      "application/vnd.jupyter.widget-view+json": {
       "model_id": "",
       "version_major": 2,
       "version_minor": 0
      },
      "text/plain": [
       "HBox(children=(HTML(value='Validating'), FloatProgress(value=1.0, bar_style='info', layout=Layout(flex='2'), m…"
      ]
     },
     "metadata": {},
     "output_type": "display_data"
    },
    {
     "name": "stderr",
     "output_type": "stream",
     "text": [
      "Epoch 32, global step 107183: val_loss reached 0.02657 (best 0.02647), saving model to \"logs/TIMIT-drones-baseline-proper/version_1/checkpoints/epoch=32-val_loss=0.03.ckpt\" as top 5\n"
     ]
    },
    {
     "data": {
      "application/vnd.jupyter.widget-view+json": {
       "model_id": "",
       "version_major": 2,
       "version_minor": 0
      },
      "text/plain": [
       "HBox(children=(HTML(value='Validating'), FloatProgress(value=1.0, bar_style='info', layout=Layout(flex='2'), m…"
      ]
     },
     "metadata": {},
     "output_type": "display_data"
    },
    {
     "name": "stderr",
     "output_type": "stream",
     "text": [
      "Epoch 33, global step 110431: val_loss reached 0.02653 (best 0.02647), saving model to \"logs/TIMIT-drones-baseline-proper/version_1/checkpoints/epoch=33-val_loss=0.03.ckpt\" as top 5\n"
     ]
    },
    {
     "data": {
      "application/vnd.jupyter.widget-view+json": {
       "model_id": "",
       "version_major": 2,
       "version_minor": 0
      },
      "text/plain": [
       "HBox(children=(HTML(value='Validating'), FloatProgress(value=1.0, bar_style='info', layout=Layout(flex='2'), m…"
      ]
     },
     "metadata": {},
     "output_type": "display_data"
    },
    {
     "name": "stderr",
     "output_type": "stream",
     "text": [
      "Epoch 34, step 113679: val_loss was not in top 5\n"
     ]
    },
    {
     "name": "stdout",
     "output_type": "stream",
     "text": [
      "\n"
     ]
    },
    {
     "data": {
      "text/plain": [
       "1"
      ]
     },
     "execution_count": 15,
     "metadata": {},
     "output_type": "execute_result"
    }
   ],
   "source": [
    "trainer.fit(system)"
   ]
  },
  {
   "cell_type": "code",
   "execution_count": 16,
   "metadata": {},
   "outputs": [],
   "source": [
    "torch.save(baseline_model.serialize(), '../../../workspace/models/baseline_model_fixed_mse.pt')"
   ]
  },
  {
   "cell_type": "markdown",
   "metadata": {},
   "source": [
    "## Set up the model, optimizer and scheduler"
   ]
  },
  {
   "cell_type": "code",
   "execution_count": 17,
   "metadata": {},
   "outputs": [],
   "source": [
    "LR = 1e-4\n",
    "REDUCE_LR_PATIENCE = 3\n",
    "EARLY_STOP_PATIENCE = 10\n",
    "MAX_EPOCHS = 300\n",
    "\n",
    "# the model here should be constructed in the script accordingly to the passed config (including the model type)\n",
    "# most of the models accept `sample_rate` parameter for encoders, which is important (default is 16000, override)\n",
    "#model = DCUNet(\"DCUNet-20\", fix_length_mode=\"trim\", sample_rate=SAMPLE_RATE)\n",
    "#model = DCCRNet(\"DCCRN-CL\", sample_rate=SAMPLE_RATE)\n",
    "model = WaveUNet()\n",
    "loss = F.mse_loss\n",
    "\n",
    "# Glorot initialization of the model's parameters (important, mentioned in the paper)\n",
    "# lrelu_gain = nn.init.calculate_gain('leaky_relu', 0.01)\n",
    "# def init_weights(m):\n",
    "#     if isinstance(m, nn.Conv2d):\n",
    "#         nn.init.xavier_normal_(m.weight, gain=lrelu_gain)\n",
    "#         if m.bias is not None:\n",
    "#             m.bias.data.fill_(0.01)\n",
    "    \n",
    "# model = model.apply(init_weights)"
   ]
  },
  {
   "cell_type": "code",
   "execution_count": 18,
   "metadata": {},
   "outputs": [],
   "source": [
    "optimizer, scheduler = get_opt_and_sched(model, LR, REDUCE_LR_PATIENCE)\n",
    "early_stopping = EarlyStopping(monitor='val_loss', patience=EARLY_STOP_PATIENCE)\n",
    "checkpoint = ModelCheckpoint(\n",
    "    filename='{epoch:02d}-{val_loss:.2f}',\n",
    "    monitor=\"val_loss\",\n",
    "    mode=\"min\",\n",
    "    save_top_k=5,\n",
    "    verbose=True\n",
    ")\n",
    "\n",
    "# Probably we also need to subclass `System`, in order to log the target metrics on the validation set (PESQ/STOI)\n",
    "system = System(model, optimizer, loss, train_loader, val_loader, scheduler)"
   ]
  },
  {
   "cell_type": "code",
   "execution_count": 19,
   "metadata": {},
   "outputs": [
    {
     "name": "stderr",
     "output_type": "stream",
     "text": [
      "GPU available: True, used: True\n",
      "TPU available: None, using: 0 TPU cores\n",
      "LOCAL_RANK: 0 - CUDA_VISIBLE_DEVICES: [0,1,2,3]\n"
     ]
    }
   ],
   "source": [
    "# log dir and model name are also part of the config, of course\n",
    "LOG_DIR = 'logs'\n",
    "logger = pl_loggers.TensorBoardLogger(LOG_DIR, name='TIMIT-drones-WaveUNet-proper', version=1)\n",
    "\n",
    "# choose the proper accelerator for JADE, probably `ddp` (also, `auto_select_gpus=True` might be useful)\n",
    "trainer = Trainer(max_epochs=MAX_EPOCHS, gpus=-1, accelerator='dp',\n",
    "                  logger=logger, callbacks=[early_stopping, checkpoint], deterministic=True)"
   ]
  },
  {
   "cell_type": "markdown",
   "metadata": {},
   "source": [
    "## Train"
   ]
  },
  {
   "cell_type": "code",
   "execution_count": null,
   "metadata": {},
   "outputs": [
    {
     "name": "stderr",
     "output_type": "stream",
     "text": [
      "\n",
      "  | Name  | Type     | Params\n",
      "-----------------------------------\n",
      "0 | model | WaveUNet | 3.3 M \n",
      "-----------------------------------\n",
      "3.3 M     Trainable params\n",
      "0         Non-trainable params\n",
      "3.3 M     Total params\n"
     ]
    },
    {
     "data": {
      "application/vnd.jupyter.widget-view+json": {
       "model_id": "",
       "version_major": 2,
       "version_minor": 0
      },
      "text/plain": [
       "HBox(children=(HTML(value='Validation sanity check'), FloatProgress(value=1.0, bar_style='info', layout=Layout…"
      ]
     },
     "metadata": {},
     "output_type": "display_data"
    },
    {
     "name": "stderr",
     "output_type": "stream",
     "text": [
      "/homes/dm005/projects/asteroid/asteroid/engine/system.py:113: UserWarning: Using a target size (torch.Size([8, 24000])) that is different to the input size (torch.Size([8, 1, 24000])). This will likely lead to incorrect results due to broadcasting. Please ensure they have the same size.\n",
      "  loss = self.loss_func(est_targets, targets)\n"
     ]
    },
    {
     "data": {
      "application/vnd.jupyter.widget-view+json": {
       "model_id": "c4cce372fe8a44a383e56a1af5e61458",
       "version_major": 2,
       "version_minor": 0
      },
      "text/plain": [
       "HBox(children=(HTML(value='Training'), FloatProgress(value=1.0, bar_style='info', layout=Layout(flex='2'), max…"
      ]
     },
     "metadata": {},
     "output_type": "display_data"
    },
    {
     "data": {
      "application/vnd.jupyter.widget-view+json": {
       "model_id": "",
       "version_major": 2,
       "version_minor": 0
      },
      "text/plain": [
       "HBox(children=(HTML(value='Validating'), FloatProgress(value=1.0, bar_style='info', layout=Layout(flex='2'), m…"
      ]
     },
     "metadata": {},
     "output_type": "display_data"
    },
    {
     "name": "stderr",
     "output_type": "stream",
     "text": [
      "Epoch 0, global step 3247: val_loss reached 0.00029 (best 0.00029), saving model to \"logs/TIMIT-drones-WaveUNet-proper/version_1/checkpoints/epoch=00-val_loss=0.00.ckpt\" as top 5\n"
     ]
    },
    {
     "data": {
      "application/vnd.jupyter.widget-view+json": {
       "model_id": "",
       "version_major": 2,
       "version_minor": 0
      },
      "text/plain": [
       "HBox(children=(HTML(value='Validating'), FloatProgress(value=1.0, bar_style='info', layout=Layout(flex='2'), m…"
      ]
     },
     "metadata": {},
     "output_type": "display_data"
    },
    {
     "name": "stderr",
     "output_type": "stream",
     "text": [
      "Epoch 1, global step 6495: val_loss reached 0.00028 (best 0.00028), saving model to \"logs/TIMIT-drones-WaveUNet-proper/version_1/checkpoints/epoch=01-val_loss=0.00.ckpt\" as top 5\n"
     ]
    },
    {
     "data": {
      "application/vnd.jupyter.widget-view+json": {
       "model_id": "",
       "version_major": 2,
       "version_minor": 0
      },
      "text/plain": [
       "HBox(children=(HTML(value='Validating'), FloatProgress(value=1.0, bar_style='info', layout=Layout(flex='2'), m…"
      ]
     },
     "metadata": {},
     "output_type": "display_data"
    },
    {
     "name": "stderr",
     "output_type": "stream",
     "text": [
      "Epoch 2, global step 9743: val_loss reached 0.00028 (best 0.00028), saving model to \"logs/TIMIT-drones-WaveUNet-proper/version_1/checkpoints/epoch=02-val_loss=0.00.ckpt\" as top 5\n"
     ]
    },
    {
     "data": {
      "application/vnd.jupyter.widget-view+json": {
       "model_id": "",
       "version_major": 2,
       "version_minor": 0
      },
      "text/plain": [
       "HBox(children=(HTML(value='Validating'), FloatProgress(value=1.0, bar_style='info', layout=Layout(flex='2'), m…"
      ]
     },
     "metadata": {},
     "output_type": "display_data"
    },
    {
     "name": "stderr",
     "output_type": "stream",
     "text": [
      "Epoch 3, global step 12991: val_loss reached 0.00028 (best 0.00028), saving model to \"logs/TIMIT-drones-WaveUNet-proper/version_1/checkpoints/epoch=03-val_loss=0.00.ckpt\" as top 5\n"
     ]
    },
    {
     "data": {
      "application/vnd.jupyter.widget-view+json": {
       "model_id": "",
       "version_major": 2,
       "version_minor": 0
      },
      "text/plain": [
       "HBox(children=(HTML(value='Validating'), FloatProgress(value=1.0, bar_style='info', layout=Layout(flex='2'), m…"
      ]
     },
     "metadata": {},
     "output_type": "display_data"
    },
    {
     "name": "stderr",
     "output_type": "stream",
     "text": [
      "Epoch 4, global step 16239: val_loss reached 0.00028 (best 0.00028), saving model to \"logs/TIMIT-drones-WaveUNet-proper/version_1/checkpoints/epoch=04-val_loss=0.00.ckpt\" as top 5\n"
     ]
    },
    {
     "data": {
      "application/vnd.jupyter.widget-view+json": {
       "model_id": "",
       "version_major": 2,
       "version_minor": 0
      },
      "text/plain": [
       "HBox(children=(HTML(value='Validating'), FloatProgress(value=1.0, bar_style='info', layout=Layout(flex='2'), m…"
      ]
     },
     "metadata": {},
     "output_type": "display_data"
    },
    {
     "name": "stderr",
     "output_type": "stream",
     "text": [
      "Epoch 5, global step 19487: val_loss reached 0.00028 (best 0.00028), saving model to \"logs/TIMIT-drones-WaveUNet-proper/version_1/checkpoints/epoch=05-val_loss=0.00.ckpt\" as top 5\n"
     ]
    },
    {
     "data": {
      "application/vnd.jupyter.widget-view+json": {
       "model_id": "",
       "version_major": 2,
       "version_minor": 0
      },
      "text/plain": [
       "HBox(children=(HTML(value='Validating'), FloatProgress(value=1.0, bar_style='info', layout=Layout(flex='2'), m…"
      ]
     },
     "metadata": {},
     "output_type": "display_data"
    },
    {
     "name": "stderr",
     "output_type": "stream",
     "text": [
      "Epoch 6, global step 22735: val_loss reached 0.00028 (best 0.00028), saving model to \"logs/TIMIT-drones-WaveUNet-proper/version_1/checkpoints/epoch=06-val_loss=0.00.ckpt\" as top 5\n"
     ]
    },
    {
     "data": {
      "application/vnd.jupyter.widget-view+json": {
       "model_id": "",
       "version_major": 2,
       "version_minor": 0
      },
      "text/plain": [
       "HBox(children=(HTML(value='Validating'), FloatProgress(value=1.0, bar_style='info', layout=Layout(flex='2'), m…"
      ]
     },
     "metadata": {},
     "output_type": "display_data"
    },
    {
     "name": "stderr",
     "output_type": "stream",
     "text": [
      "Epoch 7, global step 25983: val_loss reached 0.00028 (best 0.00028), saving model to \"logs/TIMIT-drones-WaveUNet-proper/version_1/checkpoints/epoch=07-val_loss=0.00.ckpt\" as top 5\n"
     ]
    },
    {
     "data": {
      "application/vnd.jupyter.widget-view+json": {
       "model_id": "",
       "version_major": 2,
       "version_minor": 0
      },
      "text/plain": [
       "HBox(children=(HTML(value='Validating'), FloatProgress(value=1.0, bar_style='info', layout=Layout(flex='2'), m…"
      ]
     },
     "metadata": {},
     "output_type": "display_data"
    },
    {
     "name": "stderr",
     "output_type": "stream",
     "text": [
      "Epoch 8, global step 29231: val_loss reached 0.00028 (best 0.00028), saving model to \"logs/TIMIT-drones-WaveUNet-proper/version_1/checkpoints/epoch=08-val_loss=0.00.ckpt\" as top 5\n"
     ]
    },
    {
     "data": {
      "application/vnd.jupyter.widget-view+json": {
       "model_id": "",
       "version_major": 2,
       "version_minor": 0
      },
      "text/plain": [
       "HBox(children=(HTML(value='Validating'), FloatProgress(value=1.0, bar_style='info', layout=Layout(flex='2'), m…"
      ]
     },
     "metadata": {},
     "output_type": "display_data"
    },
    {
     "name": "stderr",
     "output_type": "stream",
     "text": [
      "Epoch 9, global step 32479: val_loss reached 0.00028 (best 0.00028), saving model to \"logs/TIMIT-drones-WaveUNet-proper/version_1/checkpoints/epoch=09-val_loss=0.00.ckpt\" as top 5\n"
     ]
    },
    {
     "data": {
      "application/vnd.jupyter.widget-view+json": {
       "model_id": "",
       "version_major": 2,
       "version_minor": 0
      },
      "text/plain": [
       "HBox(children=(HTML(value='Validating'), FloatProgress(value=1.0, bar_style='info', layout=Layout(flex='2'), m…"
      ]
     },
     "metadata": {},
     "output_type": "display_data"
    },
    {
     "name": "stderr",
     "output_type": "stream",
     "text": [
      "Epoch 10, global step 35727: val_loss reached 0.00028 (best 0.00028), saving model to \"logs/TIMIT-drones-WaveUNet-proper/version_1/checkpoints/epoch=10-val_loss=0.00.ckpt\" as top 5\n"
     ]
    },
    {
     "data": {
      "application/vnd.jupyter.widget-view+json": {
       "model_id": "",
       "version_major": 2,
       "version_minor": 0
      },
      "text/plain": [
       "HBox(children=(HTML(value='Validating'), FloatProgress(value=1.0, bar_style='info', layout=Layout(flex='2'), m…"
      ]
     },
     "metadata": {},
     "output_type": "display_data"
    },
    {
     "name": "stderr",
     "output_type": "stream",
     "text": [
      "Epoch 11, global step 38975: val_loss reached 0.00028 (best 0.00028), saving model to \"logs/TIMIT-drones-WaveUNet-proper/version_1/checkpoints/epoch=11-val_loss=0.00.ckpt\" as top 5\n"
     ]
    }
   ],
   "source": [
    "trainer.fit(system)"
   ]
  },
  {
   "cell_type": "code",
   "execution_count": null,
   "metadata": {},
   "outputs": [],
   "source": [
    "torch.save(model.serialize(), '../../../workspace/models/waveunet_fixed_mse.pt')"
   ]
  },
  {
   "cell_type": "markdown",
   "metadata": {},
   "source": [
    "## Save the models fully with all the parameters"
   ]
  },
  {
   "cell_type": "code",
   "execution_count": 12,
   "metadata": {},
   "outputs": [],
   "source": [
    "torch.save(model.serialize(), 'dccrn_random_v1.pt')"
   ]
  },
  {
   "cell_type": "code",
   "execution_count": null,
   "metadata": {},
   "outputs": [],
   "source": []
  }
 ],
 "metadata": {
  "kernelspec": {
   "display_name": "Python 3",
   "language": "python",
   "name": "python3"
  },
  "language_info": {
   "codemirror_mode": {
    "name": "ipython",
    "version": 3
   },
   "file_extension": ".py",
   "mimetype": "text/x-python",
   "name": "python",
   "nbconvert_exporter": "python",
   "pygments_lexer": "ipython3",
   "version": "3.8.2"
  }
 },
 "nbformat": 4,
 "nbformat_minor": 4
}
