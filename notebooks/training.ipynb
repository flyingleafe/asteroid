{
 "cells": [
  {
   "cell_type": "code",
   "execution_count": 13,
   "metadata": {},
   "outputs": [
    {
     "name": "stdout",
     "output_type": "stream",
     "text": [
      "The autoreload extension is already loaded. To reload it, use:\n",
      "  %reload_ext autoreload\n"
     ]
    }
   ],
   "source": [
    "import torch\n",
    "import torch.nn.functional as F\n",
    "import os\n",
    "import os.path\n",
    "import shutil\n",
    "import numpy as np\n",
    "import soundfile as sf\n",
    "\n",
    "from pathlib import PurePath\n",
    "from torch import nn\n",
    "from torch.utils.data import DataLoader, random_split\n",
    "from asteroid.data import TimitDataset\n",
    "from asteroid.data.utils import CachedWavSet, RandomMixtureSet, FixedMixtureSet\n",
    "from tqdm import tqdm\n",
    "\n",
    "from torch import optim\n",
    "from pytorch_lightning import Trainer, seed_everything, loggers as pl_loggers\n",
    "from pytorch_lightning.callbacks import ModelCheckpoint\n",
    "from pytorch_lightning.callbacks.early_stopping import EarlyStopping\n",
    "from asteroid_filterbanks import make_enc_dec\n",
    "from asteroid_filterbanks.transforms import mag\n",
    "from asteroid.engine import System\n",
    "from asteroid.losses import singlesrc_neg_sisdr\n",
    "\n",
    "from asteroid import DCUNet, DCCRNet, DPRNNTasNet, ConvTasNet\n",
    "\n",
    "%load_ext autoreload\n",
    "%autoreload 2"
   ]
  },
  {
   "cell_type": "markdown",
   "metadata": {},
   "source": [
    "## Constants and utils"
   ]
  },
  {
   "cell_type": "code",
   "execution_count": 4,
   "metadata": {},
   "outputs": [],
   "source": [
    "BATCH_SIZE       = 32     # could be more on cluster, test if larger one work\n",
    "SAMPLE_RATE      = 8000   # as agreed upon\n",
    "CROP_LEN         = 24000  # average track len in TIMIT\n",
    "SEED             = 42     # magic number :)    \n",
    "\n",
    "# directory with train noises (n116-n120)\n",
    "DRONE_NOISE_DIR = '../../../datasets/noises-train-drones-8khz'\n",
    "# fixed SNRs for validation set\n",
    "TRAIN_SNRS = [-25, -20, -15, -10, -5]\n",
    "\n",
    "def sisdr_loss_wrapper(est_target, target):\n",
    "    return singlesrc_neg_sisdr(est_target.squeeze(1), target).mean()\n",
    "\n",
    "def train_val_split(ds, val_fraction=0.1, random_seed=SEED):\n",
    "    assert val_fraction > 0 and val_fraction < 0.5\n",
    "    len_train = int(len(ds) * (1 - val_fraction))\n",
    "    len_val = len(ds) - len_train\n",
    "    return random_split(ds, [len_train, len_val], generator=torch.Generator().manual_seed(random_seed))"
   ]
  },
  {
   "cell_type": "markdown",
   "metadata": {},
   "source": [
    "## Prepare the data"
   ]
  },
  {
   "cell_type": "markdown",
   "metadata": {},
   "source": [
    "### Resample TIMIT dataset "
   ]
  },
  {
   "cell_type": "code",
   "execution_count": 5,
   "metadata": {},
   "outputs": [],
   "source": [
    "TIMIT_DIR = PurePath('../../../datasets/TIMIT')\n",
    "TIMIT_DIR_8kHZ = PurePath('/import/vision-eddydata/dm005_tmp/TIMIT_8kHZ')"
   ]
  },
  {
   "cell_type": "code",
   "execution_count": 5,
   "metadata": {},
   "outputs": [
    {
     "name": "stderr",
     "output_type": "stream",
     "text": [
      "Resampling training data: 100%|██████████| 4620/4620 [02:37<00:00, 29.33it/s]\n",
      "Resampling test data: 100%|██████████| 1680/1680 [00:58<00:00, 28.86it/s]\n"
     ]
    }
   ],
   "source": [
    "os.makedirs(TIMIT_DIR_8kHZ, exist_ok=True)\n",
    "shutil.copyfile(TIMIT_DIR / 'train_data.csv', TIMIT_DIR_8kHZ / 'train_data.csv')\n",
    "shutil.copyfile(TIMIT_DIR / 'test_data.csv', TIMIT_DIR_8kHZ / 'test_data.csv')\n",
    "\n",
    "data_dir_in = TIMIT_DIR / 'data'\n",
    "data_dir_out = TIMIT_DIR_8kHZ / 'data'\n",
    "\n",
    "def resample(ds, dir_in, dir_out, message='Resampling'):\n",
    "    dl = DataLoader(ds, num_workers=10)\n",
    "    for wav, path in tqdm(dl, message):\n",
    "        path = PurePath(path[0])\n",
    "        out_path = dir_out / path.relative_to(dir_in)\n",
    "        os.makedirs(out_path.parent, exist_ok=True)\n",
    "        sf.write(file=out_path, data=wav[0].numpy(), samplerate=SAMPLE_RATE)\n",
    "\n",
    "timit_train = TimitDataset(TIMIT_DIR, subset='train', sample_rate=SAMPLE_RATE)\n",
    "resample(timit_train, data_dir_in, data_dir_out, 'Resampling training data')\n",
    "\n",
    "timit_test = TimitDataset(TIMIT_DIR, subset='test', sample_rate=SAMPLE_RATE)\n",
    "resample(timit_test, data_dir_in, data_dir_out, 'Resampling test data')"
   ]
  },
  {
   "cell_type": "markdown",
   "metadata": {},
   "source": [
    "### Load and split the data"
   ]
  },
  {
   "cell_type": "code",
   "execution_count": 4,
   "metadata": {},
   "outputs": [
    {
     "name": "stderr",
     "output_type": "stream",
     "text": [
      "Precaching audio: 100%|██████████| 5/5 [00:00<00:00, 108.51it/s]\n"
     ]
    }
   ],
   "source": [
    "# This is for training with on-the-fly random noise mixture with random SNR from the range.\n",
    "# Is expected to produce a more robust result: checking this now on EECS server\n",
    "\n",
    "# Reproducibility - fix all random seeds\n",
    "# seed_everything(SEED)\n",
    "\n",
    "# # Load noises, resample and save into the memory\n",
    "# noises = CachedWavSet(DRONE_NOISE_DIR, sample_rate=SAMPLE_RATE, precache=True)\n",
    "\n",
    "# # Load clean data and split it into train and val\n",
    "# timit = TimitDataset(TIMIT_DIR_8kHZ, subset='train', sample_rate=SAMPLE_RATE, with_path=False)\n",
    "# timit_train, timit_val = train_val_split(timit, val_fraction=0.1, random_seed=SEED)\n",
    "\n",
    "# # Training data mixes crops randomly on the fly with random SNR in range (effectively infinite training data)\n",
    "# # `repeat_factor=20` means that the dataset contains 20 copies of itself - it is the easiest way to make the epoch longer\n",
    "# timit_train = RandomMixtureSet(timit_train, noises, random_seed=SEED, snr_range=(-25, -5),\n",
    "#                                crop_length=CROP_LEN, repeat_factor=30)\n",
    "\n",
    "# # Validation data is fixed (for stability): mix every clean clip with all the noises in the folder\n",
    "# # Argument `mixtures_per_clean` regulates with how many different noise files each clean file will be mixed\n",
    "# timit_val = FixedMixtureSet(timit_val, noises, snrs=TRAIN_SNRS, random_seed=SEED,\n",
    "#                             mixtures_per_clean=5, crop_length=CROP_LEN)"
   ]
  },
  {
   "cell_type": "code",
   "execution_count": 6,
   "metadata": {},
   "outputs": [
    {
     "name": "stderr",
     "output_type": "stream",
     "text": [
      "Precaching audio: 100%|██████████| 5/5 [00:00<00:00, 17.93it/s]\n"
     ]
    }
   ],
   "source": [
    "# Reproducibility - fix all random seeds\n",
    "seed_everything(SEED)\n",
    "\n",
    "# Load noises, resample and save into the memory\n",
    "noises = CachedWavSet(DRONE_NOISE_DIR, sample_rate=SAMPLE_RATE, precache=True)\n",
    "\n",
    "timit = TimitDataset(TIMIT_DIR_8kHZ, subset='train', sample_rate=SAMPLE_RATE, with_path=False)\n",
    "timit_mix = FixedMixtureSet(timit, noises, snrs=TRAIN_SNRS, random_seed=SEED,\n",
    "                            mixtures_per_clean=5, crop_length=CROP_LEN)\n",
    "\n",
    "timit_train, timit_val = train_val_split(timit_mix, val_fraction=0.1, random_seed=SEED)"
   ]
  },
  {
   "cell_type": "code",
   "execution_count": 7,
   "metadata": {},
   "outputs": [],
   "source": [
    "NUM_WORKERS = 5\n",
    "train_loader = DataLoader(timit_train, shuffle=True, batch_size=BATCH_SIZE,\n",
    "                          num_workers=NUM_WORKERS, drop_last=True)\n",
    "val_loader = DataLoader(timit_val, batch_size=BATCH_SIZE,\n",
    "                        num_workers=NUM_WORKERS, drop_last=True)"
   ]
  },
  {
   "cell_type": "code",
   "execution_count": 8,
   "metadata": {},
   "outputs": [],
   "source": [
    "batch = next(iter(val_loader))"
   ]
  },
  {
   "cell_type": "code",
   "execution_count": 11,
   "metadata": {},
   "outputs": [],
   "source": [
    "mix, clean = batch"
   ]
  },
  {
   "cell_type": "code",
   "execution_count": 16,
   "metadata": {},
   "outputs": [
    {
     "data": {
      "text/plain": [
       "torch.Size([32, 1, 24000])"
      ]
     },
     "execution_count": 16,
     "metadata": {},
     "output_type": "execute_result"
    }
   ],
   "source": [
    "mix = mix.unsqueeze(1)\n",
    "mix.shape"
   ]
  },
  {
   "cell_type": "code",
   "execution_count": 32,
   "metadata": {},
   "outputs": [],
   "source": [
    "encoder, decoder = make_enc_dec('stft', n_filters=256, kernel_size=256, stride=128, sample_rate=8000)"
   ]
  },
  {
   "cell_type": "code",
   "execution_count": 33,
   "metadata": {},
   "outputs": [],
   "source": [
    "mix_stft = encoder(mix).unsqueeze(1)"
   ]
  },
  {
   "cell_type": "code",
   "execution_count": 34,
   "metadata": {},
   "outputs": [
    {
     "data": {
      "text/plain": [
       "torch.Size([32, 1, 258, 186])"
      ]
     },
     "execution_count": 34,
     "metadata": {},
     "output_type": "execute_result"
    }
   ],
   "source": [
    "mix_stft.shape"
   ]
  },
  {
   "cell_type": "code",
   "execution_count": 35,
   "metadata": {},
   "outputs": [
    {
     "data": {
      "text/plain": [
       "torch.Size([32, 1, 129, 186])"
      ]
     },
     "execution_count": 35,
     "metadata": {},
     "output_type": "execute_result"
    }
   ],
   "source": [
    "mix_stft = mag(mix_stft)\n",
    "mix_stft.shape"
   ]
  },
  {
   "cell_type": "code",
   "execution_count": 51,
   "metadata": {},
   "outputs": [
    {
     "data": {
      "text/plain": [
       "torch.Size([32, 1, 129, 192])"
      ]
     },
     "execution_count": 51,
     "metadata": {},
     "output_type": "execute_result"
    }
   ],
   "source": [
    "F.pad(mix_stft, (3,3,0,0), mode='replicate').shape"
   ]
  },
  {
   "cell_type": "code",
   "execution_count": 52,
   "metadata": {},
   "outputs": [
    {
     "data": {
      "text/plain": [
       "torch.Size([32, 903, 186])"
      ]
     },
     "execution_count": 52,
     "metadata": {},
     "output_type": "execute_result"
    }
   ],
   "source": [
    "F.unfold(F.pad(mix_stft, (3, 3, 0, 0), mode='replicate'), (129, 7)).shape"
   ]
  },
  {
   "cell_type": "markdown",
   "metadata": {},
   "source": [
    "## Set up the model, optimizer and scheduler"
   ]
  },
  {
   "cell_type": "code",
   "execution_count": 10,
   "metadata": {},
   "outputs": [],
   "source": [
    "# some random parameters, does it look sensible?\n",
    "LR = 1e-3\n",
    "REDUCE_LR_PATIENCE = 3\n",
    "EARLY_STOP_PATIENCE = 5\n",
    "MAX_EPOCHS = 100\n",
    "\n",
    "# the model here should be constructed in the script accordingly to the passed config (including the model type)\n",
    "# most of the models accept `sample_rate` parameter for encoders, which is important (default is 16000, override)\n",
    "#model = DCUNet(\"DCUNet-20\", fix_length_mode=\"trim\", sample_rate=SAMPLE_RATE)\n",
    "model = DCCRNet(\"DCCRN-CL\", sample_rate=SAMPLE_RATE)\n",
    "\n",
    "# Glorot initialization of the model's parameters (important, mentioned in the paper)\n",
    "lrelu_gain = nn.init.calculate_gain('leaky_relu', 0.01)\n",
    "def init_weights(m):\n",
    "    if isinstance(m, nn.Conv2d):\n",
    "        nn.init.xavier_normal_(m.weight, gain=lrelu_gain)\n",
    "        if m.bias is not None:\n",
    "            m.bias.data.fill_(0.01)\n",
    "    \n",
    "model = model.apply(init_weights)"
   ]
  },
  {
   "cell_type": "code",
   "execution_count": 11,
   "metadata": {},
   "outputs": [],
   "source": [
    "optimizer = optim.Adam(model.parameters(), lr=LR)\n",
    "scheduler = optim.lr_scheduler.ReduceLROnPlateau(optimizer, patience=REDUCE_LR_PATIENCE)\n",
    "early_stopping = EarlyStopping(monitor='val_loss', patience=EARLY_STOP_PATIENCE)\n",
    "checkpoint = ModelCheckpoint(\n",
    "    filename='{epoch:02d}-{val_loss:.2f}',\n",
    "    monitor=\"val_loss\",\n",
    "    mode=\"min\",\n",
    "    save_top_k=5,\n",
    "    verbose=True\n",
    ")\n",
    "\n",
    "# Probably we also need to subclass `System`, in order to log the target metrics on the validation set (PESQ/STOI)\n",
    "system = System(model, optimizer, sisdr_loss_wrapper, train_loader, val_loader, scheduler)"
   ]
  },
  {
   "cell_type": "code",
   "execution_count": 12,
   "metadata": {},
   "outputs": [
    {
     "name": "stderr",
     "output_type": "stream",
     "text": [
      "GPU available: True, used: True\n",
      "TPU available: None, using: 0 TPU cores\n",
      "LOCAL_RANK: 0 - CUDA_VISIBLE_DEVICES: [0,1,2,3]\n"
     ]
    }
   ],
   "source": [
    "# log dir and model name are also part of the config, of course\n",
    "LOG_DIR = 'logs'\n",
    "logger = pl_loggers.TensorBoardLogger(LOG_DIR, name='TIMIT-drones-DCCRN-proper', version=1)\n",
    "\n",
    "# choose the proper accelerator for JADE, probably `ddp` (also, `auto_select_gpus=True` might be useful)\n",
    "trainer = Trainer(max_epochs=MAX_EPOCHS, gpus=-1, accelerator='dp',\n",
    "                  logger=logger, callbacks=[early_stopping, checkpoint], deterministic=True)"
   ]
  },
  {
   "cell_type": "markdown",
   "metadata": {},
   "source": [
    "## Train"
   ]
  },
  {
   "cell_type": "code",
   "execution_count": null,
   "metadata": {},
   "outputs": [
    {
     "name": "stderr",
     "output_type": "stream",
     "text": [
      "\n",
      "  | Name  | Type    | Params\n",
      "----------------------------------\n",
      "0 | model | DCCRNet | 3.7 M \n",
      "----------------------------------\n",
      "3.7 M     Trainable params\n",
      "0         Non-trainable params\n",
      "3.7 M     Total params\n"
     ]
    },
    {
     "data": {
      "application/vnd.jupyter.widget-view+json": {
       "model_id": "",
       "version_major": 2,
       "version_minor": 0
      },
      "text/plain": [
       "HBox(children=(HTML(value='Validation sanity check'), FloatProgress(value=1.0, bar_style='info', layout=Layout…"
      ]
     },
     "metadata": {},
     "output_type": "display_data"
    },
    {
     "data": {
      "application/vnd.jupyter.widget-view+json": {
       "model_id": "0e07739ce90f4fe7b9e0cd4f8c3130f0",
       "version_major": 2,
       "version_minor": 0
      },
      "text/plain": [
       "HBox(children=(HTML(value='Training'), FloatProgress(value=1.0, bar_style='info', layout=Layout(flex='2'), max…"
      ]
     },
     "metadata": {},
     "output_type": "display_data"
    },
    {
     "name": "stderr",
     "output_type": "stream",
     "text": [
      "/homes/dm005/conda_env/lib/python3.8/site-packages/torch/nn/parallel/_functions.py:64: UserWarning: Was asked to gather along dimension 0, but all input tensors were scalars; will instead unsqueeze and return a vector.\n",
      "  warnings.warn('Was asked to gather along dimension 0, but all '\n"
     ]
    },
    {
     "data": {
      "application/vnd.jupyter.widget-view+json": {
       "model_id": "",
       "version_major": 2,
       "version_minor": 0
      },
      "text/plain": [
       "HBox(children=(HTML(value='Validating'), FloatProgress(value=1.0, bar_style='info', layout=Layout(flex='2'), m…"
      ]
     },
     "metadata": {},
     "output_type": "display_data"
    },
    {
     "name": "stderr",
     "output_type": "stream",
     "text": [
      "Epoch 0, global step 3247: val_loss reached -3.99637 (best -3.99637), saving model to \"logs/TIMIT-drones-DCCRN-proper/version_1/checkpoints/epoch=00-val_loss=-4.00.ckpt\" as top 5\n"
     ]
    },
    {
     "data": {
      "application/vnd.jupyter.widget-view+json": {
       "model_id": "",
       "version_major": 2,
       "version_minor": 0
      },
      "text/plain": [
       "HBox(children=(HTML(value='Validating'), FloatProgress(value=1.0, bar_style='info', layout=Layout(flex='2'), m…"
      ]
     },
     "metadata": {},
     "output_type": "display_data"
    },
    {
     "name": "stderr",
     "output_type": "stream",
     "text": [
      "Epoch 1, global step 6495: val_loss reached -4.92332 (best -4.92332), saving model to \"logs/TIMIT-drones-DCCRN-proper/version_1/checkpoints/epoch=01-val_loss=-4.92.ckpt\" as top 5\n"
     ]
    },
    {
     "data": {
      "application/vnd.jupyter.widget-view+json": {
       "model_id": "",
       "version_major": 2,
       "version_minor": 0
      },
      "text/plain": [
       "HBox(children=(HTML(value='Validating'), FloatProgress(value=1.0, bar_style='info', layout=Layout(flex='2'), m…"
      ]
     },
     "metadata": {},
     "output_type": "display_data"
    },
    {
     "name": "stderr",
     "output_type": "stream",
     "text": [
      "Epoch 2, global step 9743: val_loss reached -5.12564 (best -5.12564), saving model to \"logs/TIMIT-drones-DCCRN-proper/version_1/checkpoints/epoch=02-val_loss=-5.13.ckpt\" as top 5\n"
     ]
    },
    {
     "data": {
      "application/vnd.jupyter.widget-view+json": {
       "model_id": "",
       "version_major": 2,
       "version_minor": 0
      },
      "text/plain": [
       "HBox(children=(HTML(value='Validating'), FloatProgress(value=1.0, bar_style='info', layout=Layout(flex='2'), m…"
      ]
     },
     "metadata": {},
     "output_type": "display_data"
    },
    {
     "name": "stderr",
     "output_type": "stream",
     "text": [
      "Epoch 3, global step 12991: val_loss reached -5.83977 (best -5.83977), saving model to \"logs/TIMIT-drones-DCCRN-proper/version_1/checkpoints/epoch=03-val_loss=-5.84.ckpt\" as top 5\n"
     ]
    },
    {
     "data": {
      "application/vnd.jupyter.widget-view+json": {
       "model_id": "",
       "version_major": 2,
       "version_minor": 0
      },
      "text/plain": [
       "HBox(children=(HTML(value='Validating'), FloatProgress(value=1.0, bar_style='info', layout=Layout(flex='2'), m…"
      ]
     },
     "metadata": {},
     "output_type": "display_data"
    },
    {
     "name": "stderr",
     "output_type": "stream",
     "text": [
      "Epoch 4, global step 16239: val_loss reached -6.24204 (best -6.24204), saving model to \"logs/TIMIT-drones-DCCRN-proper/version_1/checkpoints/epoch=04-val_loss=-6.24.ckpt\" as top 5\n"
     ]
    },
    {
     "data": {
      "application/vnd.jupyter.widget-view+json": {
       "model_id": "",
       "version_major": 2,
       "version_minor": 0
      },
      "text/plain": [
       "HBox(children=(HTML(value='Validating'), FloatProgress(value=1.0, bar_style='info', layout=Layout(flex='2'), m…"
      ]
     },
     "metadata": {},
     "output_type": "display_data"
    },
    {
     "name": "stderr",
     "output_type": "stream",
     "text": [
      "Epoch 5, global step 19487: val_loss reached -6.44075 (best -6.44075), saving model to \"logs/TIMIT-drones-DCCRN-proper/version_1/checkpoints/epoch=05-val_loss=-6.44.ckpt\" as top 5\n",
      "IOPub message rate exceeded.\n",
      "The notebook server will temporarily stop sending output\n",
      "to the client in order to avoid crashing it.\n",
      "To change this limit, set the config variable\n",
      "`--NotebookApp.iopub_msg_rate_limit`.\n",
      "\n",
      "Current values:\n",
      "NotebookApp.iopub_msg_rate_limit=1000.0 (msgs/sec)\n",
      "NotebookApp.rate_limit_window=3.0 (secs)\n",
      "\n",
      "Epoch 6, global step 22735: val_loss reached -6.67306 (best -6.67306), saving model to \"logs/TIMIT-drones-DCCRN-proper/version_1/checkpoints/epoch=06-val_loss=-6.67.ckpt\" as top 5\n",
      "IOPub message rate exceeded.\n",
      "The notebook server will temporarily stop sending output\n",
      "to the client in order to avoid crashing it.\n",
      "To change this limit, set the config variable\n",
      "`--NotebookApp.iopub_msg_rate_limit`.\n",
      "\n",
      "Current values:\n",
      "NotebookApp.iopub_msg_rate_limit=1000.0 (msgs/sec)\n",
      "NotebookApp.rate_limit_window=3.0 (secs)\n",
      "\n",
      "IOPub message rate exceeded.\n",
      "The notebook server will temporarily stop sending output\n",
      "to the client in order to avoid crashing it.\n",
      "To change this limit, set the config variable\n",
      "`--NotebookApp.iopub_msg_rate_limit`.\n",
      "\n",
      "Current values:\n",
      "NotebookApp.iopub_msg_rate_limit=1000.0 (msgs/sec)\n",
      "NotebookApp.rate_limit_window=3.0 (secs)\n",
      "\n"
     ]
    }
   ],
   "source": [
    "trainer.fit(system)"
   ]
  },
  {
   "cell_type": "code",
   "execution_count": 1,
   "metadata": {},
   "outputs": [
    {
     "ename": "NameError",
     "evalue": "name 'torch' is not defined",
     "output_type": "error",
     "traceback": [
      "\u001b[0;31m---------------------------------------------------------------------------\u001b[0m",
      "\u001b[0;31mNameError\u001b[0m                                 Traceback (most recent call last)",
      "\u001b[0;32m<ipython-input-1-073b02eda98c>\u001b[0m in \u001b[0;36m<module>\u001b[0;34m\u001b[0m\n\u001b[0;32m----> 1\u001b[0;31m \u001b[0mtorch\u001b[0m\u001b[0;34m.\u001b[0m\u001b[0msave\u001b[0m\u001b[0;34m(\u001b[0m\u001b[0mmodel\u001b[0m\u001b[0;34m.\u001b[0m\u001b[0mserialize\u001b[0m\u001b[0;34m(\u001b[0m\u001b[0;34m)\u001b[0m\u001b[0;34m,\u001b[0m \u001b[0;34m'dccrn_proper_v1.pt'\u001b[0m\u001b[0;34m)\u001b[0m\u001b[0;34m\u001b[0m\u001b[0;34m\u001b[0m\u001b[0m\n\u001b[0m",
      "\u001b[0;31mNameError\u001b[0m: name 'torch' is not defined"
     ]
    }
   ],
   "source": [
    "torch.save(model.serialize(), 'dccrn_proper_v1.pt')"
   ]
  },
  {
   "cell_type": "markdown",
   "metadata": {},
   "source": [
    "## Save the models fully with all the parameters"
   ]
  },
  {
   "cell_type": "code",
   "execution_count": 12,
   "metadata": {},
   "outputs": [],
   "source": [
    "torch.save(model.serialize(), 'dccrn_random_v1.pt')"
   ]
  },
  {
   "cell_type": "code",
   "execution_count": null,
   "metadata": {},
   "outputs": [],
   "source": []
  }
 ],
 "metadata": {
  "kernelspec": {
   "display_name": "Python 3",
   "language": "python",
   "name": "python3"
  },
  "language_info": {
   "codemirror_mode": {
    "name": "ipython",
    "version": 3
   },
   "file_extension": ".py",
   "mimetype": "text/x-python",
   "name": "python",
   "nbconvert_exporter": "python",
   "pygments_lexer": "ipython3",
   "version": "3.7.4"
  }
 },
 "nbformat": 4,
 "nbformat_minor": 4
}
