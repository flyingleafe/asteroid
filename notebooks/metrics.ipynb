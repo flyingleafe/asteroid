{
 "cells": [
  {
   "cell_type": "code",
   "execution_count": 4,
   "metadata": {},
   "outputs": [
    {
     "name": "stdout",
     "output_type": "stream",
     "text": [
      "The autoreload extension is already loaded. To reload it, use:\n",
      "  %reload_ext autoreload\n"
     ]
    }
   ],
   "source": [
    "%matplotlib inline\n",
    "%load_ext autoreload\n",
    "%autoreload 2\n",
    "\n",
    "import scipy as sp\n",
    "import numpy as np\n",
    "import pandas as pd\n",
    "import matplotlib.pyplot as plt\n",
    "import soundfile as sf\n",
    "import librosa as lr\n",
    "import pickle\n",
    "import matplotlib.pyplot as plt\n",
    "\n",
    "from pypesq import pesq\n",
    "from pesq import pesq as pesq2\n",
    "from pystoi.stoi import stoi as pystoi_stoi\n",
    "from pathlib import PurePath\n",
    "from tqdm import tqdm\n",
    "from concurrent.futures import ProcessPoolExecutor"
   ]
  },
  {
   "cell_type": "code",
   "execution_count": 12,
   "metadata": {},
   "outputs": [],
   "source": [
    "def read_audio(path, target_fs=None):\n",
    "    (audio, fs) = sf.read(path)\n",
    "    if audio.ndim > 1:\n",
    "        audio = np.mean(audio, axis=1)\n",
    "    if target_fs is not None and fs != target_fs:\n",
    "        audio = lr.resample(audio, orig_sr=fs, target_sr=target_fs)\n",
    "        fs = target_fs\n",
    "    return audio, fs\n",
    "\n",
    "def all_file_paths(root_dir):\n",
    "    return [os.path.join(root, name)\n",
    "            for root, dirs, files in os.walk(root_dir)\n",
    "            for name in files]\n",
    "\n",
    "\n",
    "def calculate_pesq(workspace, speech_dir, model_name, te_snr,\n",
    "                   library='pypesq', mode='nb', calc_mixed=False, force=False):\n",
    "    \"\"\"Calculate PESQ of all enhaced speech.\n",
    "\n",
    "    Args:\n",
    "      workspace: str, path of workspace.\n",
    "      speech_dir: str, path of clean speech.\n",
    "      te_snr: float, testing SNR.\n",
    "    \"\"\"\n",
    "    assert library in ('pypesq', 'pesq', 'stoi')\n",
    "    assert mode in ('wb', 'nb')\n",
    "    \n",
    "    if library == 'pypesq':\n",
    "        results_file = os.path.join(workspace, 'evaluation', f'pesq_results_{model_name}.csv')\n",
    "    elif library == 'pesq':\n",
    "        results_file = os.path.join(workspace, 'evaluation', f'pesq2_results_{mode}_{model_name}.csv')\n",
    "    else:\n",
    "        results_file = os.path.join(workspace, 'evaluation', f'stoi_results_{model_name}.csv')\n",
    "        \n",
    "    if os.path.isfile(results_file) and not force:\n",
    "        print('PESQ is already calculated')\n",
    "        return pd.read_csv(results_file)\n",
    "    \n",
    "    df = pd.DataFrame(columns=['filepath', 'snr', 'pesq'])\n",
    "    speech_audio_cache = {}\n",
    "    \n",
    "    os.makedirs(os.path.dirname(results_file), exist_ok=True)\n",
    "        \n",
    "    for snr in te_snr:\n",
    "        print(f'SNR: {snr}')\n",
    "\n",
    "        # Calculate PESQ of all enhaced speech.\n",
    "        if calc_mixed:\n",
    "            enh_speech_dir = os.path.join(workspace, \"mixed_audios\", \"spectrogram\", \"test\", \"%ddb\" % int(snr))\n",
    "        else:\n",
    "            enh_speech_dir = os.path.join(workspace, \"enh_wavs\", \"test\", model_name, \"%ddb\" % int(snr))\n",
    "        \n",
    "        enh_paths = all_file_paths(enh_speech_dir)\n",
    "\n",
    "        pendings = []\n",
    "        with ProcessPoolExecutor(10) as pool:\n",
    "            for (cnt, enh_path) in tqdm(enumerate(enh_paths), 'Calculating PESQ score (submitting)'):\n",
    "                # enh_path = os.path.join(enh_speech_dir, na)\n",
    "                na = str(PurePath(enh_path).relative_to(enh_speech_dir))\n",
    "                #print(cnt, na)\n",
    "\n",
    "                if calc_mixed:\n",
    "                    speech_na = '.'.join(na.split('.')[:-2])\n",
    "                else:\n",
    "                    speech_na = '.'.join(na.split('.')[:-3])\n",
    "\n",
    "                speech_path = os.path.join(speech_dir, f\"{speech_na}.wav\")\n",
    "\n",
    "                deg, sr = read_audio(enh_path)\n",
    "\n",
    "                try:\n",
    "                    ref = speech_audio_cache[speech_path]\n",
    "                except KeyError:\n",
    "                    ref, _ = read_audio(speech_path, target_fs=sr)\n",
    "                    speech_audio_cache[speech_path] = ref\n",
    "\n",
    "                if len(ref) < len(deg):\n",
    "                    ref = np.pad(ref, (0, len(deg) - len(ref)))\n",
    "                elif len(deg) < len(ref):\n",
    "                    deg = np.pad(deg, (0, len(ref) - len(deg)))\n",
    "\n",
    "                if library == 'pypesq':\n",
    "                    pendings.append(pool.submit(_calc_pesq, ref, deg, sr, na, snr))\n",
    "                elif library == 'pesq':\n",
    "                    pendings.append(pool.submit(_calc_pesq2, ref, deg, sr, na, snr, mode))\n",
    "                else:\n",
    "                    pendings.append(pool.submit(_calc_stoi, ref, deg, sr, na, snr))\n",
    "        \n",
    "            for pending in tqdm(pendings, 'Collecting pending jobs'):\n",
    "                score, na, snr = pending.result()\n",
    "                df.loc[len(df)] = [na, snr, score]\n",
    "\n",
    "        df.to_csv(results_file, index=False)\n",
    "        \n",
    "    return df\n",
    "\n",
    "def _calc_pesq(ref, deg, sr, na, snr):\n",
    "    score = pesq(ref, deg, sr)\n",
    "    return score, na, snr\n",
    "\n",
    "def _calc_pesq2(ref, deg, sr, na, snr, mode):\n",
    "    score = pesq2(sr, ref, deg, mode)\n",
    "    return score, na, snr\n",
    "\n",
    "def _calc_stoi(ref, deg, sr, na, snr):\n",
    "    score = pystoi_stoi(ref, deg, fs_sig=sr)\n",
    "    return score, na, snr\n",
    "\n",
    "\n",
    "def eval_all_and_plot(model_names, speech_dir, te_snr, plot_name=None, figsize=(6,4),\n",
    "                      library='pesq', **kwargs):\n",
    "    dfs = {}\n",
    "    labels = {}\n",
    "    fig = plt.figure(figsize=figsize)\n",
    "\n",
    "    for model_name, label in model_names:\n",
    "        labels[model_name] = label\n",
    "        dfs[model_name] = calculate_pesq(workspace, speech_dir=speech_dir, te_snr=te_snr,\n",
    "                                         model_name=model_name, calc_mixed=(model_name=='input'),\n",
    "                                         library=library, **kwargs)\n",
    "    \n",
    "    pesqs = {}\n",
    "    for model_name, df in dfs.items():\n",
    "        pesqs[model_name] = df.groupby('snr').agg({'pesq': ['mean']})['pesq']['mean']\n",
    "        \n",
    "    for model_name, series in pesqs.items():\n",
    "        line_kwargs = {'marker': 'o'}\n",
    "        if model_name == 'input':\n",
    "            line_kwargs = {'c': 'black', 'ls': '--'}\n",
    "        plt.plot(series.index, series, label=labels[model_name], **line_kwargs)\n",
    "    \n",
    "    plt.grid(which='both')\n",
    "    plt.ylabel('PESQ' if library.startswith('pesq') else 'STOI')\n",
    "    plt.xlabel('SNR, dB')\n",
    "    plt.title('Test noises n121-122')\n",
    "    plt.legend()\n",
    "    if plot_name is not None:\n",
    "        plt.savefig(plot_name, bbox_inches='tight')\n",
    "    plt.show()"
   ]
  },
  {
   "cell_type": "code",
   "execution_count": 13,
   "metadata": {},
   "outputs": [],
   "source": [
    "workspace = '/import/vision-eddydata/dm005_tmp'\n",
    "speech_dir = '../../../datasets/TIMIT/data/TEST'\n",
    "te_snr = [-30, -25, -20, -15, -10, -5, 0]"
   ]
  },
  {
   "cell_type": "code",
   "execution_count": 14,
   "metadata": {},
   "outputs": [],
   "source": [
    "model_names = [\n",
    "    ('input', 'Original noisy input'),\n",
    "    ('MD3', 'Baseline DNN'),\n",
    "    ('denoiser', 'Denoiser'),\n",
    "    ('dcunet-16-v2', 'DCUNet-16'),\n",
    "    ('dccrn-v2', 'DCCRN'),\n",
    "    ('unetgan-v1', 'UNetGAN'),\n",
    "    #('dcunet-20-drones-v3', 'DCUNet-20 (drones)'), #remove for fair comparison\n",
    "]"
   ]
  },
  {
   "cell_type": "code",
   "execution_count": 15,
   "metadata": {},
   "outputs": [
    {
     "name": "stderr",
     "output_type": "stream",
     "text": [
      "Calculating PESQ score (submitting): 0it [00:00, ?it/s]"
     ]
    },
    {
     "name": "stdout",
     "output_type": "stream",
     "text": [
      "PESQ is already calculated\n",
      "PESQ is already calculated\n",
      "PESQ is already calculated\n",
      "SNR: -30\n"
     ]
    },
    {
     "name": "stderr",
     "output_type": "stream",
     "text": [
      "Calculating PESQ score (submitting): 3360it [00:20, 161.26it/s]\n",
      "Collecting pending jobs: 100%|██████████| 3360/3360 [00:58<00:00, 57.83it/s]\n"
     ]
    },
    {
     "name": "stdout",
     "output_type": "stream",
     "text": [
      "SNR: -25\n"
     ]
    },
    {
     "name": "stderr",
     "output_type": "stream",
     "text": [
      "Calculating PESQ score (submitting): 3360it [00:23, 142.42it/s]\n",
      "Collecting pending jobs: 100%|██████████| 3360/3360 [00:53<00:00, 62.51it/s] \n"
     ]
    },
    {
     "name": "stdout",
     "output_type": "stream",
     "text": [
      "SNR: -20\n"
     ]
    },
    {
     "name": "stderr",
     "output_type": "stream",
     "text": [
      "Calculating PESQ score (submitting): 3360it [00:19, 171.99it/s]\n",
      "Collecting pending jobs: 100%|██████████| 3360/3360 [00:48<00:00, 68.62it/s] \n"
     ]
    },
    {
     "name": "stdout",
     "output_type": "stream",
     "text": [
      "SNR: -15\n"
     ]
    },
    {
     "name": "stderr",
     "output_type": "stream",
     "text": [
      "Calculating PESQ score (submitting): 3360it [00:20, 164.74it/s]\n",
      "Collecting pending jobs: 100%|██████████| 3360/3360 [00:35<00:00, 94.85it/s] \n"
     ]
    },
    {
     "name": "stdout",
     "output_type": "stream",
     "text": [
      "SNR: -10\n"
     ]
    },
    {
     "name": "stderr",
     "output_type": "stream",
     "text": [
      "Calculating PESQ score (submitting): 3360it [00:18, 179.81it/s]\n",
      "Collecting pending jobs: 100%|██████████| 3360/3360 [00:21<00:00, 156.44it/s]\n"
     ]
    },
    {
     "name": "stdout",
     "output_type": "stream",
     "text": [
      "SNR: -5\n"
     ]
    },
    {
     "name": "stderr",
     "output_type": "stream",
     "text": [
      "Calculating PESQ score (submitting): 3360it [00:19, 172.38it/s]\n",
      "Collecting pending jobs: 100%|██████████| 3360/3360 [00:14<00:00, 236.73it/s]\n"
     ]
    },
    {
     "name": "stdout",
     "output_type": "stream",
     "text": [
      "SNR: 0\n"
     ]
    },
    {
     "name": "stderr",
     "output_type": "stream",
     "text": [
      "Calculating PESQ score (submitting): 3360it [00:20, 165.12it/s]\n",
      "Collecting pending jobs: 100%|██████████| 3360/3360 [00:13<00:00, 240.69it/s]\n"
     ]
    },
    {
     "name": "stdout",
     "output_type": "stream",
     "text": [
      "SNR: -30\n"
     ]
    },
    {
     "name": "stderr",
     "output_type": "stream",
     "text": [
      "Calculating PESQ score (submitting): 3360it [00:24, 138.02it/s]\n",
      "Collecting pending jobs: 100%|██████████| 3360/3360 [00:59<00:00, 56.55it/s] \n"
     ]
    },
    {
     "name": "stdout",
     "output_type": "stream",
     "text": [
      "SNR: -25\n"
     ]
    },
    {
     "name": "stderr",
     "output_type": "stream",
     "text": [
      "Calculating PESQ score (submitting): 3360it [00:20, 163.45it/s]\n",
      "Collecting pending jobs: 100%|██████████| 3360/3360 [01:01<00:00, 54.70it/s]\n"
     ]
    },
    {
     "name": "stdout",
     "output_type": "stream",
     "text": [
      "SNR: -20\n"
     ]
    },
    {
     "name": "stderr",
     "output_type": "stream",
     "text": [
      "Calculating PESQ score (submitting): 3360it [00:19, 174.20it/s]\n",
      "Collecting pending jobs: 100%|██████████| 3360/3360 [00:58<00:00, 57.58it/s]\n"
     ]
    },
    {
     "name": "stdout",
     "output_type": "stream",
     "text": [
      "SNR: -15\n"
     ]
    },
    {
     "name": "stderr",
     "output_type": "stream",
     "text": [
      "Calculating PESQ score (submitting): 3360it [00:19, 175.70it/s]\n",
      "Collecting pending jobs: 100%|██████████| 3360/3360 [00:43<00:00, 77.33it/s] \n"
     ]
    },
    {
     "name": "stdout",
     "output_type": "stream",
     "text": [
      "SNR: -10\n"
     ]
    },
    {
     "name": "stderr",
     "output_type": "stream",
     "text": [
      "Calculating PESQ score (submitting): 3360it [00:22, 150.57it/s]\n",
      "Collecting pending jobs: 100%|██████████| 3360/3360 [00:21<00:00, 156.03it/s]\n"
     ]
    },
    {
     "name": "stdout",
     "output_type": "stream",
     "text": [
      "SNR: -5\n"
     ]
    },
    {
     "name": "stderr",
     "output_type": "stream",
     "text": [
      "Calculating PESQ score (submitting): 3360it [00:21, 158.47it/s]\n",
      "Collecting pending jobs: 100%|██████████| 3360/3360 [00:13<00:00, 240.48it/s]\n"
     ]
    },
    {
     "name": "stdout",
     "output_type": "stream",
     "text": [
      "SNR: 0\n"
     ]
    },
    {
     "name": "stderr",
     "output_type": "stream",
     "text": [
      "Calculating PESQ score (submitting): 3360it [00:19, 169.00it/s]\n",
      "Collecting pending jobs: 100%|██████████| 3360/3360 [00:14<00:00, 236.89it/s]\n"
     ]
    },
    {
     "name": "stdout",
     "output_type": "stream",
     "text": [
      "SNR: -30\n"
     ]
    },
    {
     "name": "stderr",
     "output_type": "stream",
     "text": [
      "Calculating PESQ score (submitting): 3360it [00:07, 443.67it/s]\n",
      "Collecting pending jobs: 100%|██████████| 3360/3360 [00:56<00:00, 59.75it/s]\n"
     ]
    },
    {
     "name": "stdout",
     "output_type": "stream",
     "text": [
      "SNR: -25\n"
     ]
    },
    {
     "name": "stderr",
     "output_type": "stream",
     "text": [
      "Calculating PESQ score (submitting): 3360it [00:05, 587.71it/s]\n",
      "Collecting pending jobs: 100%|██████████| 3360/3360 [00:57<00:00, 58.14it/s]\n"
     ]
    },
    {
     "name": "stdout",
     "output_type": "stream",
     "text": [
      "SNR: -20\n"
     ]
    },
    {
     "name": "stderr",
     "output_type": "stream",
     "text": [
      "Calculating PESQ score (submitting): 3360it [00:05, 621.87it/s]\n",
      "Collecting pending jobs: 100%|██████████| 3360/3360 [00:54<00:00, 62.11it/s]\n"
     ]
    },
    {
     "name": "stdout",
     "output_type": "stream",
     "text": [
      "SNR: -15\n"
     ]
    },
    {
     "name": "stderr",
     "output_type": "stream",
     "text": [
      "Calculating PESQ score (submitting): 3360it [00:05, 642.07it/s]\n",
      "Collecting pending jobs: 100%|██████████| 3360/3360 [00:44<00:00, 76.22it/s]\n"
     ]
    },
    {
     "name": "stdout",
     "output_type": "stream",
     "text": [
      "SNR: -10\n"
     ]
    },
    {
     "name": "stderr",
     "output_type": "stream",
     "text": [
      "Calculating PESQ score (submitting): 3360it [00:05, 620.31it/s]\n",
      "Collecting pending jobs: 100%|██████████| 3360/3360 [00:34<00:00, 98.48it/s] \n"
     ]
    },
    {
     "name": "stdout",
     "output_type": "stream",
     "text": [
      "SNR: -5\n"
     ]
    },
    {
     "name": "stderr",
     "output_type": "stream",
     "text": [
      "Calculating PESQ score (submitting): 3360it [00:06, 555.53it/s]\n",
      "Collecting pending jobs: 100%|██████████| 3360/3360 [00:27<00:00, 124.06it/s]\n"
     ]
    },
    {
     "name": "stdout",
     "output_type": "stream",
     "text": [
      "SNR: 0\n"
     ]
    },
    {
     "name": "stderr",
     "output_type": "stream",
     "text": [
      "Calculating PESQ score (submitting): 3360it [00:05, 591.47it/s]\n",
      "Collecting pending jobs: 100%|██████████| 3360/3360 [00:26<00:00, 128.83it/s]\n"
     ]
    },
    {
     "data": {
      "image/png": "[encoded data removed]",
      "text/plain": [
       "<Figure size 432x288 with 1 Axes>"
      ]
     },
     "metadata": {
      "needs_background": "light"
     },
     "output_type": "display_data"
    }
   ],
   "source": [
    "eval_all_and_plot(model_names, speech_dir, te_snr, plot_name='n121-n122-pesq1-v2.pdf')"
   ]
  },
  {
   "cell_type": "code",
   "execution_count": null,
   "metadata": {},
   "outputs": [],
   "source": []
  }
 ],
 "metadata": {
  "kernelspec": {
   "display_name": "Python 3",
   "language": "python",
   "name": "python3"
  },
  "language_info": {
   "codemirror_mode": {
    "name": "ipython",
    "version": 3
   },
   "file_extension": ".py",
   "mimetype": "text/x-python",
   "name": "python",
   "nbconvert_exporter": "python",
   "pygments_lexer": "ipython3",
   "version": "3.8.2"
  }
 },
 "nbformat": 4,
 "nbformat_minor": 4
}
